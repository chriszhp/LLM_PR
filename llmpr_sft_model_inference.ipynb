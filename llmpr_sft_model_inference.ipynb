{
 "cells": [
  {
   "cell_type": "code",
   "execution_count": null,
   "id": "e93db3ad",
   "metadata": {
    "_cell_guid": "b1076dfc-b9ad-4769-8c92-a6c4dae69d19",
    "_uuid": "8f2839f25d086af736a60e9eeb907d3b93b6e0e5",
    "execution": {
     "iopub.execute_input": "2024-04-16T01:10:21.950918Z",
     "iopub.status.busy": "2024-04-16T01:10:21.950599Z",
     "iopub.status.idle": "2024-04-16T01:12:03.827768Z",
     "shell.execute_reply": "2024-04-16T01:12:03.826510Z"
    },
    "papermill": {
     "duration": 101.887098,
     "end_time": "2024-04-16T01:12:03.830568",
     "exception": false,
     "start_time": "2024-04-16T01:10:21.943470",
     "status": "completed"
    },
    "tags": []
   },
   "outputs": [],
   "source": [
    "!pip install -Uq /kaggle/input/llm-whls/bitsandbytes-0.41.1-py3-none-any.whl\n",
    "!pip install -Uq /kaggle/input/llm-whls/peft-0.4.0-py3-none-any.whl\n",
    "!pip install -Uq /kaggle/input/library-off-for-llm/transformers-4.38.2-py3-none-any.whl"
   ]
  },
  {
   "cell_type": "code",
   "execution_count": null,
   "id": "3639cda7",
   "metadata": {
    "execution": {
     "iopub.execute_input": "2024-04-16T01:12:03.843108Z",
     "iopub.status.busy": "2024-04-16T01:12:03.842786Z",
     "iopub.status.idle": "2024-04-16T01:12:12.727378Z",
     "shell.execute_reply": "2024-04-16T01:12:12.726574Z"
    },
    "papermill": {
     "duration": 8.893525,
     "end_time": "2024-04-16T01:12:12.729973",
     "exception": false,
     "start_time": "2024-04-16T01:12:03.836448",
     "status": "completed"
    },
    "tags": []
   },
   "outputs": [],
   "source": [
    "import numpy as np\n",
    "import pandas as pd\n",
    "from tqdm.auto import tqdm\n",
    "\n",
    "import torch\n",
    "\n",
    "from peft import PeftConfig, PeftModel\n",
    "from transformers import AutoModelForCausalLM, AutoTokenizer"
   ]
  },
  {
   "cell_type": "code",
   "execution_count": null,
   "id": "9604297d",
   "metadata": {
    "execution": {
     "iopub.execute_input": "2024-04-16T01:12:12.743380Z",
     "iopub.status.busy": "2024-04-16T01:12:12.742906Z",
     "iopub.status.idle": "2024-04-16T01:12:12.747313Z",
     "shell.execute_reply": "2024-04-16T01:12:12.746361Z"
    },
    "papermill": {
     "duration": 0.013621,
     "end_time": "2024-04-16T01:12:12.749580",
     "exception": false,
     "start_time": "2024-04-16T01:12:12.735959",
     "status": "completed"
    },
    "tags": []
   },
   "outputs": [],
   "source": [
    "input_token_len = 1024\n",
    "output_token_len = 30\n",
    "\n",
    "# searched hyperparameters for generation, using n_beams=4 contributes to the major improvement in the score from bronze bracket to silver bracket\n",
    "temp = 0.6\n",
    "n_beams = 4"
   ]
  },
  {
   "cell_type": "code",
   "execution_count": null,
   "id": "ffb5fc16",
   "metadata": {
    "execution": {
     "iopub.execute_input": "2024-04-16T01:12:12.761774Z",
     "iopub.status.busy": "2024-04-16T01:12:12.760959Z",
     "iopub.status.idle": "2024-04-16T01:12:12.772841Z",
     "shell.execute_reply": "2024-04-16T01:12:12.772022Z"
    },
    "papermill": {
     "duration": 0.019897,
     "end_time": "2024-04-16T01:12:12.774682",
     "exception": false,
     "start_time": "2024-04-16T01:12:12.754785",
     "status": "completed"
    },
    "tags": []
   },
   "outputs": [],
   "source": [
    "test_df = pd.read_csv('/kaggle/input/llm-prompt-recovery/test.csv')"
   ]
  },
  {
   "cell_type": "code",
   "execution_count": null,
   "id": "23f994aa",
   "metadata": {
    "execution": {
     "iopub.execute_input": "2024-04-16T01:12:12.786111Z",
     "iopub.status.busy": "2024-04-16T01:12:12.785783Z",
     "iopub.status.idle": "2024-04-16T01:12:12.789675Z",
     "shell.execute_reply": "2024-04-16T01:12:12.788870Z"
    },
    "papermill": {
     "duration": 0.011683,
     "end_time": "2024-04-16T01:12:12.791521",
     "exception": false,
     "start_time": "2024-04-16T01:12:12.779838",
     "status": "completed"
    },
    "tags": []
   },
   "outputs": [],
   "source": [
    "base_model_name = \"/kaggle/input/phi/transformers/2/1\"\n",
    "adapter_model_name = \"/kaggle/input/phi2-public-data-sft-adapter/pytorch/public-data-sft/1/phi2_public_data_sft\""
   ]
  },
  {
   "cell_type": "code",
   "execution_count": null,
   "id": "9d1ecdc2",
   "metadata": {
    "execution": {
     "iopub.execute_input": "2024-04-16T01:12:12.802760Z",
     "iopub.status.busy": "2024-04-16T01:12:12.802496Z",
     "iopub.status.idle": "2024-04-16T01:12:12.806367Z",
     "shell.execute_reply": "2024-04-16T01:12:12.805573Z"
    },
    "papermill": {
     "duration": 0.011576,
     "end_time": "2024-04-16T01:12:12.808227",
     "exception": false,
     "start_time": "2024-04-16T01:12:12.796651",
     "status": "completed"
    },
    "tags": []
   },
   "outputs": [],
   "source": [
    "device = torch.device(\"cuda\" if torch.cuda.is_available() else \"cpu\")"
   ]
  },
  {
   "cell_type": "code",
   "execution_count": null,
   "id": "bff75a38",
   "metadata": {
    "execution": {
     "iopub.execute_input": "2024-04-16T01:12:12.819634Z",
     "iopub.status.busy": "2024-04-16T01:12:12.819375Z",
     "iopub.status.idle": "2024-04-16T01:12:12.968986Z",
     "shell.execute_reply": "2024-04-16T01:12:12.967991Z"
    },
    "papermill": {
     "duration": 0.157815,
     "end_time": "2024-04-16T01:12:12.971135",
     "exception": false,
     "start_time": "2024-04-16T01:12:12.813320",
     "status": "completed"
    },
    "tags": []
   },
   "outputs": [],
   "source": [
    "tokenizer = AutoTokenizer.from_pretrained(base_model_name,trust_remote_code=True)\n",
    "if tokenizer.pad_token is None:\n",
    "    tokenizer.pad_token = tokenizer.eos_token"
   ]
  },
  {
   "cell_type": "code",
   "execution_count": null,
   "id": "a1d03c65",
   "metadata": {
    "execution": {
     "iopub.execute_input": "2024-04-16T01:12:12.983294Z",
     "iopub.status.busy": "2024-04-16T01:12:12.982964Z",
     "iopub.status.idle": "2024-04-16T01:13:11.792603Z",
     "shell.execute_reply": "2024-04-16T01:13:11.791589Z"
    },
    "papermill": {
     "duration": 58.818589,
     "end_time": "2024-04-16T01:13:11.795248",
     "exception": false,
     "start_time": "2024-04-16T01:12:12.976659",
     "status": "completed"
    },
    "tags": []
   },
   "outputs": [],
   "source": [
    "model = AutoModelForCausalLM.from_pretrained(base_model_name,trust_remote_code=True)\n",
    "model = PeftModel.from_pretrained(model, adapter_model_name)\n",
    "model = model.merge_and_unload()"
   ]
  },
  {
   "cell_type": "code",
   "execution_count": null,
   "id": "bfff2ba9",
   "metadata": {
    "execution": {
     "iopub.execute_input": "2024-04-16T01:13:11.809166Z",
     "iopub.status.busy": "2024-04-16T01:13:11.808807Z",
     "iopub.status.idle": "2024-04-16T01:13:14.894849Z",
     "shell.execute_reply": "2024-04-16T01:13:14.893864Z"
    },
    "papermill": {
     "duration": 3.095092,
     "end_time": "2024-04-16T01:13:14.896976",
     "exception": false,
     "start_time": "2024-04-16T01:13:11.801884",
     "status": "completed"
    },
    "tags": []
   },
   "outputs": [],
   "source": [
    "model.to(device)\n",
    "model.eval()\n",
    "print('model loaded !!')"
   ]
  },
  {
   "cell_type": "code",
   "execution_count": null,
   "id": "3a366f3d",
   "metadata": {
    "execution": {
     "iopub.execute_input": "2024-04-16T01:13:14.910054Z",
     "iopub.status.busy": "2024-04-16T01:13:14.909712Z",
     "iopub.status.idle": "2024-04-16T01:13:14.921372Z",
     "shell.execute_reply": "2024-04-16T01:13:14.920480Z"
    },
    "papermill": {
     "duration": 0.020236,
     "end_time": "2024-04-16T01:13:14.923271",
     "exception": false,
     "start_time": "2024-04-16T01:13:14.903035",
     "status": "completed"
    },
    "tags": []
   },
   "outputs": [],
   "source": [
    "def text_generate(ori_text, rew_text, model, tokenizer, input_max_len=512, output_len=128, device='cuda'):\n",
    "    prompt = f\"Instruct: Original Text:{ori_text}\\nRewritten Text:{rew_text}\\nWrite a prompt that was likely given to the LLM to rewrite original text to rewritten text.\\nOutput: Please improve this text by\"\n",
    "    inputs = tokenizer(prompt, max_length=input_max_len, truncation=True, return_tensors=\"pt\", return_attention_mask=False).to(device)\n",
    "    \n",
    "    input_token_len = len(inputs.input_ids[0])\n",
    "    inputs = {k:v.to(device) for k,v in inputs.items()}\n",
    "#     max_len = input_token_len + output_len\n",
    "    outputs = model.generate(**inputs,\n",
    "                         do_sample=True,\n",
    "                         max_new_tokens=output_len,\n",
    "                         pad_token_id=tokenizer.pad_token_id,\n",
    "                         temperature=temp,\n",
    "                         num_beams=n_beams,\n",
    "                         )\n",
    "    text = tokenizer.batch_decode(outputs,skip_special_tokens=True,clean_up_tokenization_spaces=False)[0]\n",
    "    start_index = text.find('Output:')\n",
    "    generated_text = text[start_index+len('Output:'):].strip()\n",
    "    \n",
    "    sentences = [sentence.strip() for sentence in generated_text.split('.')]\n",
    "    \n",
    "    generated_text = sentences[0]\n",
    "    \n",
    "    new_prompt = f\"Instruct: Original Text:{ori_text}\\nRewritten Text:{rew_text}\\nWrite a prompt that was likely given to the LLM to rewrite original text to rewritten text.\\nOutput: {generated_text.split('.')[0]}\" + \", maintaining the original meaning but altering the tone in \"\n",
    "    \n",
    "    new_inputs = tokenizer(new_prompt, max_length=input_max_len, truncation=True, return_tensors=\"pt\", return_attention_mask=False).to(device)\n",
    "    \n",
    "    new_outputs = model.generate(**new_inputs,\n",
    "                         do_sample=True,\n",
    "                         max_new_tokens=output_len,\n",
    "                         pad_token_id=tokenizer.pad_token_id,\n",
    "                         temperature=temp,\n",
    "                         num_beams=n_beams,\n",
    "                         )\n",
    "    \n",
    "    new_text = tokenizer.batch_decode(new_outputs,skip_special_tokens=True,clean_up_tokenization_spaces=False)[0]\n",
    "    \n",
    "    new_generated_text = new_text[start_index+len('Output:'):].strip()\n",
    "    \n",
    "    sentences = [sentence.strip() for sentence in new_generated_text.split('.')]\n",
    "    \n",
    "    generated_text = sentences[0]\n",
    "    return generated_text"
   ]
  },
  {
   "cell_type": "code",
   "execution_count": null,
   "id": "ef7508f1",
   "metadata": {
    "execution": {
     "iopub.execute_input": "2024-04-16T01:13:14.935576Z",
     "iopub.status.busy": "2024-04-16T01:13:14.935285Z",
     "iopub.status.idle": "2024-04-16T01:13:14.939076Z",
     "shell.execute_reply": "2024-04-16T01:13:14.938255Z"
    },
    "papermill": {
     "duration": 0.012007,
     "end_time": "2024-04-16T01:13:14.940867",
     "exception": false,
     "start_time": "2024-04-16T01:13:14.928860",
     "status": "completed"
    },
    "tags": []
   },
   "outputs": [],
   "source": [
    "mean_prompt = \"Please improve this text using the writing style with maintaining the original meaning but altering the tone.\""
   ]
  },
  {
   "cell_type": "code",
   "execution_count": null,
   "id": "1e9254f4",
   "metadata": {
    "execution": {
     "iopub.execute_input": "2024-04-16T01:13:14.953312Z",
     "iopub.status.busy": "2024-04-16T01:13:14.953006Z",
     "iopub.status.idle": "2024-04-16T01:13:14.957448Z",
     "shell.execute_reply": "2024-04-16T01:13:14.956600Z"
    },
    "papermill": {
     "duration": 0.012967,
     "end_time": "2024-04-16T01:13:14.959443",
     "exception": false,
     "start_time": "2024-04-16T01:13:14.946476",
     "status": "completed"
    },
    "tags": []
   },
   "outputs": [],
   "source": [
    "rewrite_prompts = []"
   ]
  },
  {
   "cell_type": "code",
   "execution_count": null,
   "id": "86d40ab0",
   "metadata": {
    "execution": {
     "iopub.execute_input": "2024-04-16T01:13:14.972748Z",
     "iopub.status.busy": "2024-04-16T01:13:14.972399Z",
     "iopub.status.idle": "2024-04-16T01:13:19.995659Z",
     "shell.execute_reply": "2024-04-16T01:13:19.994724Z"
    },
    "papermill": {
     "duration": 5.032208,
     "end_time": "2024-04-16T01:13:19.997658",
     "exception": false,
     "start_time": "2024-04-16T01:13:14.965450",
     "status": "completed"
    },
    "tags": []
   },
   "outputs": [],
   "source": [
    "for i, row in tqdm(test_df.iterrows(), total=len(test_df)):\n",
    "    prompt = mean_prompt\n",
    "    try:\n",
    "        prompt = text_generate(row['original_text'],\n",
    "                               row['rewritten_text'],\n",
    "                               model,\n",
    "                               tokenizer,\n",
    "                               input_token_len,\n",
    "                               output_token_len,\n",
    "                               device,\n",
    "                              )\n",
    "    except:\n",
    "        pass\n",
    "        \n",
    "    rewrite_prompts.append(prompt)"
   ]
  },
  {
   "cell_type": "code",
   "execution_count": null,
   "id": "31398d8d",
   "metadata": {
    "execution": {
     "iopub.execute_input": "2024-04-16T01:13:20.010863Z",
     "iopub.status.busy": "2024-04-16T01:13:20.010583Z",
     "iopub.status.idle": "2024-04-16T01:13:20.015640Z",
     "shell.execute_reply": "2024-04-16T01:13:20.014771Z"
    },
    "papermill": {
     "duration": 0.013631,
     "end_time": "2024-04-16T01:13:20.017438",
     "exception": false,
     "start_time": "2024-04-16T01:13:20.003807",
     "status": "completed"
    },
    "tags": []
   },
   "outputs": [],
   "source": [
    "test_df['rewrite_prompt'] = rewrite_prompts"
   ]
  },
  {
   "cell_type": "code",
   "execution_count": null,
   "id": "24d5cd24",
   "metadata": {
    "execution": {
     "iopub.execute_input": "2024-04-16T01:13:20.049767Z",
     "iopub.status.busy": "2024-04-16T01:13:20.049503Z",
     "iopub.status.idle": "2024-04-16T01:13:20.062283Z",
     "shell.execute_reply": "2024-04-16T01:13:20.061462Z"
    },
    "papermill": {
     "duration": 0.021154,
     "end_time": "2024-04-16T01:13:20.064250",
     "exception": false,
     "start_time": "2024-04-16T01:13:20.043096",
     "status": "completed"
    },
    "tags": []
   },
   "outputs": [],
   "source": [
    "sub_df = test_df[['id', 'rewrite_prompt']]\n",
    "sub_df.to_csv('submission.csv', index=False)"
   ]
  }
 ],
 "metadata": {
  "kaggle": {
   "accelerator": "gpu",
   "dataSources": [
    {
     "databundleVersionId": 7806901,
     "sourceId": 67121,
     "sourceType": "competition"
    },
    {
     "datasetId": 3600418,
     "sourceId": 6572938,
     "sourceType": "datasetVersion"
    },
    {
     "sourceId": 164964691,
     "sourceType": "kernelVersion"
    },
    {
     "modelInstanceId": 8658,
     "sourceId": 10716,
     "sourceType": "modelInstanceVersion"
    },
    {
     "modelInstanceId": 17852,
     "sourceId": 21555,
     "sourceType": "modelInstanceVersion"
    },
    {
     "isSourceIdPinned": true,
     "modelInstanceId": 23717,
     "sourceId": 28169,
     "sourceType": "modelInstanceVersion"
    }
   ],
   "dockerImageVersionId": 30674,
   "isGpuEnabled": true,
   "isInternetEnabled": false,
   "language": "python",
   "sourceType": "notebook"
  },
  "kernelspec": {
   "display_name": "Python 3",
   "language": "python",
   "name": "python3"
  },
  "language_info": {
   "codemirror_mode": {
    "name": "ipython",
    "version": 3
   },
   "file_extension": ".py",
   "mimetype": "text/x-python",
   "name": "python",
   "nbconvert_exporter": "python",
   "pygments_lexer": "ipython3",
   "version": "3.10.13"
  },
  "papermill": {
   "default_parameters": {},
   "duration": 183.22076,
   "end_time": "2024-04-16T01:13:22.409223",
   "environment_variables": {},
   "exception": null,
   "input_path": "__notebook__.ipynb",
   "output_path": "__notebook__.ipynb",
   "parameters": {},
   "start_time": "2024-04-16T01:10:19.188463",
   "version": "2.5.0"
  },
  "widgets": {
   "application/vnd.jupyter.widget-state+json": {
    "state": {
     "0f004febc4ed4f8fb9ce3f9804ad410f": {
      "model_module": "@jupyter-widgets/base",
      "model_module_version": "1.2.0",
      "model_name": "LayoutModel",
      "state": {
       "_model_module": "@jupyter-widgets/base",
       "_model_module_version": "1.2.0",
       "_model_name": "LayoutModel",
       "_view_count": null,
       "_view_module": "@jupyter-widgets/base",
       "_view_module_version": "1.2.0",
       "_view_name": "LayoutView",
       "align_content": null,
       "align_items": null,
       "align_self": null,
       "border": null,
       "bottom": null,
       "display": null,
       "flex": null,
       "flex_flow": null,
       "grid_area": null,
       "grid_auto_columns": null,
       "grid_auto_flow": null,
       "grid_auto_rows": null,
       "grid_column": null,
       "grid_gap": null,
       "grid_row": null,
       "grid_template_areas": null,
       "grid_template_columns": null,
       "grid_template_rows": null,
       "height": null,
       "justify_content": null,
       "justify_items": null,
       "left": null,
       "margin": null,
       "max_height": null,
       "max_width": null,
       "min_height": null,
       "min_width": null,
       "object_fit": null,
       "object_position": null,
       "order": null,
       "overflow": null,
       "overflow_x": null,
       "overflow_y": null,
       "padding": null,
       "right": null,
       "top": null,
       "visibility": null,
       "width": null
      }
     },
     "20ced5e2d44b4766a09edccb26049a48": {
      "model_module": "@jupyter-widgets/controls",
      "model_module_version": "1.5.0",
      "model_name": "HTMLModel",
      "state": {
       "_dom_classes": [],
       "_model_module": "@jupyter-widgets/controls",
       "_model_module_version": "1.5.0",
       "_model_name": "HTMLModel",
       "_view_count": null,
       "_view_module": "@jupyter-widgets/controls",
       "_view_module_version": "1.5.0",
       "_view_name": "HTMLView",
       "description": "",
       "description_tooltip": null,
       "layout": "IPY_MODEL_fa84e97caaba452da4ce94ed334465bd",
       "placeholder": "​",
       "style": "IPY_MODEL_8c250aa899e74efdaedd5f89b1940700",
       "value": " 2/2 [00:37&lt;00:00, 15.99s/it]"
      }
     },
     "4b07b5fcd2b04b258e747c98611f422f": {
      "model_module": "@jupyter-widgets/controls",
      "model_module_version": "1.5.0",
      "model_name": "HTMLModel",
      "state": {
       "_dom_classes": [],
       "_model_module": "@jupyter-widgets/controls",
       "_model_module_version": "1.5.0",
       "_model_name": "HTMLModel",
       "_view_count": null,
       "_view_module": "@jupyter-widgets/controls",
       "_view_module_version": "1.5.0",
       "_view_name": "HTMLView",
       "description": "",
       "description_tooltip": null,
       "layout": "IPY_MODEL_742a51fbe9324b9f8ebb6aa1444c4bf7",
       "placeholder": "​",
       "style": "IPY_MODEL_50a8291b44ef40dda53948904825147a",
       "value": " 1/1 [00:05&lt;00:00,  5.02s/it]"
      }
     },
     "50a8291b44ef40dda53948904825147a": {
      "model_module": "@jupyter-widgets/controls",
      "model_module_version": "1.5.0",
      "model_name": "DescriptionStyleModel",
      "state": {
       "_model_module": "@jupyter-widgets/controls",
       "_model_module_version": "1.5.0",
       "_model_name": "DescriptionStyleModel",
       "_view_count": null,
       "_view_module": "@jupyter-widgets/base",
       "_view_module_version": "1.2.0",
       "_view_name": "StyleView",
       "description_width": ""
      }
     },
     "69ee77ec2e1841c6aba8500152221d1f": {
      "model_module": "@jupyter-widgets/controls",
      "model_module_version": "1.5.0",
      "model_name": "HTMLModel",
      "state": {
       "_dom_classes": [],
       "_model_module": "@jupyter-widgets/controls",
       "_model_module_version": "1.5.0",
       "_model_name": "HTMLModel",
       "_view_count": null,
       "_view_module": "@jupyter-widgets/controls",
       "_view_module_version": "1.5.0",
       "_view_name": "HTMLView",
       "description": "",
       "description_tooltip": null,
       "layout": "IPY_MODEL_a98a335f71e84f22832ec7cde964c320",
       "placeholder": "​",
       "style": "IPY_MODEL_a2eac885651e480e822ac219350cd3a3",
       "value": "100%"
      }
     },
     "731048c67d9947fe978a310d362f69e7": {
      "model_module": "@jupyter-widgets/controls",
      "model_module_version": "1.5.0",
      "model_name": "FloatProgressModel",
      "state": {
       "_dom_classes": [],
       "_model_module": "@jupyter-widgets/controls",
       "_model_module_version": "1.5.0",
       "_model_name": "FloatProgressModel",
       "_view_count": null,
       "_view_module": "@jupyter-widgets/controls",
       "_view_module_version": "1.5.0",
       "_view_name": "ProgressView",
       "bar_style": "success",
       "description": "",
       "description_tooltip": null,
       "layout": "IPY_MODEL_0f004febc4ed4f8fb9ce3f9804ad410f",
       "max": 2,
       "min": 0,
       "orientation": "horizontal",
       "style": "IPY_MODEL_85f9fee417b84528bb9aa6b3b812aa2e",
       "value": 2
      }
     },
     "742a51fbe9324b9f8ebb6aa1444c4bf7": {
      "model_module": "@jupyter-widgets/base",
      "model_module_version": "1.2.0",
      "model_name": "LayoutModel",
      "state": {
       "_model_module": "@jupyter-widgets/base",
       "_model_module_version": "1.2.0",
       "_model_name": "LayoutModel",
       "_view_count": null,
       "_view_module": "@jupyter-widgets/base",
       "_view_module_version": "1.2.0",
       "_view_name": "LayoutView",
       "align_content": null,
       "align_items": null,
       "align_self": null,
       "border": null,
       "bottom": null,
       "display": null,
       "flex": null,
       "flex_flow": null,
       "grid_area": null,
       "grid_auto_columns": null,
       "grid_auto_flow": null,
       "grid_auto_rows": null,
       "grid_column": null,
       "grid_gap": null,
       "grid_row": null,
       "grid_template_areas": null,
       "grid_template_columns": null,
       "grid_template_rows": null,
       "height": null,
       "justify_content": null,
       "justify_items": null,
       "left": null,
       "margin": null,
       "max_height": null,
       "max_width": null,
       "min_height": null,
       "min_width": null,
       "object_fit": null,
       "object_position": null,
       "order": null,
       "overflow": null,
       "overflow_x": null,
       "overflow_y": null,
       "padding": null,
       "right": null,
       "top": null,
       "visibility": null,
       "width": null
      }
     },
     "82d3e7bb30764e219ccb0cef0ff81dd2": {
      "model_module": "@jupyter-widgets/controls",
      "model_module_version": "1.5.0",
      "model_name": "DescriptionStyleModel",
      "state": {
       "_model_module": "@jupyter-widgets/controls",
       "_model_module_version": "1.5.0",
       "_model_name": "DescriptionStyleModel",
       "_view_count": null,
       "_view_module": "@jupyter-widgets/base",
       "_view_module_version": "1.2.0",
       "_view_name": "StyleView",
       "description_width": ""
      }
     },
     "85f9fee417b84528bb9aa6b3b812aa2e": {
      "model_module": "@jupyter-widgets/controls",
      "model_module_version": "1.5.0",
      "model_name": "ProgressStyleModel",
      "state": {
       "_model_module": "@jupyter-widgets/controls",
       "_model_module_version": "1.5.0",
       "_model_name": "ProgressStyleModel",
       "_view_count": null,
       "_view_module": "@jupyter-widgets/base",
       "_view_module_version": "1.2.0",
       "_view_name": "StyleView",
       "bar_color": null,
       "description_width": ""
      }
     },
     "8c250aa899e74efdaedd5f89b1940700": {
      "model_module": "@jupyter-widgets/controls",
      "model_module_version": "1.5.0",
      "model_name": "DescriptionStyleModel",
      "state": {
       "_model_module": "@jupyter-widgets/controls",
       "_model_module_version": "1.5.0",
       "_model_name": "DescriptionStyleModel",
       "_view_count": null,
       "_view_module": "@jupyter-widgets/base",
       "_view_module_version": "1.2.0",
       "_view_name": "StyleView",
       "description_width": ""
      }
     },
     "940382105f634c81a552ca6256959f4d": {
      "model_module": "@jupyter-widgets/controls",
      "model_module_version": "1.5.0",
      "model_name": "ProgressStyleModel",
      "state": {
       "_model_module": "@jupyter-widgets/controls",
       "_model_module_version": "1.5.0",
       "_model_name": "ProgressStyleModel",
       "_view_count": null,
       "_view_module": "@jupyter-widgets/base",
       "_view_module_version": "1.2.0",
       "_view_name": "StyleView",
       "bar_color": null,
       "description_width": ""
      }
     },
     "9ae135a7f1ec481aa94cf5b4fdbed441": {
      "model_module": "@jupyter-widgets/base",
      "model_module_version": "1.2.0",
      "model_name": "LayoutModel",
      "state": {
       "_model_module": "@jupyter-widgets/base",
       "_model_module_version": "1.2.0",
       "_model_name": "LayoutModel",
       "_view_count": null,
       "_view_module": "@jupyter-widgets/base",
       "_view_module_version": "1.2.0",
       "_view_name": "LayoutView",
       "align_content": null,
       "align_items": null,
       "align_self": null,
       "border": null,
       "bottom": null,
       "display": null,
       "flex": null,
       "flex_flow": null,
       "grid_area": null,
       "grid_auto_columns": null,
       "grid_auto_flow": null,
       "grid_auto_rows": null,
       "grid_column": null,
       "grid_gap": null,
       "grid_row": null,
       "grid_template_areas": null,
       "grid_template_columns": null,
       "grid_template_rows": null,
       "height": null,
       "justify_content": null,
       "justify_items": null,
       "left": null,
       "margin": null,
       "max_height": null,
       "max_width": null,
       "min_height": null,
       "min_width": null,
       "object_fit": null,
       "object_position": null,
       "order": null,
       "overflow": null,
       "overflow_x": null,
       "overflow_y": null,
       "padding": null,
       "right": null,
       "top": null,
       "visibility": null,
       "width": null
      }
     },
     "a2eac885651e480e822ac219350cd3a3": {
      "model_module": "@jupyter-widgets/controls",
      "model_module_version": "1.5.0",
      "model_name": "DescriptionStyleModel",
      "state": {
       "_model_module": "@jupyter-widgets/controls",
       "_model_module_version": "1.5.0",
       "_model_name": "DescriptionStyleModel",
       "_view_count": null,
       "_view_module": "@jupyter-widgets/base",
       "_view_module_version": "1.2.0",
       "_view_name": "StyleView",
       "description_width": ""
      }
     },
     "a98a335f71e84f22832ec7cde964c320": {
      "model_module": "@jupyter-widgets/base",
      "model_module_version": "1.2.0",
      "model_name": "LayoutModel",
      "state": {
       "_model_module": "@jupyter-widgets/base",
       "_model_module_version": "1.2.0",
       "_model_name": "LayoutModel",
       "_view_count": null,
       "_view_module": "@jupyter-widgets/base",
       "_view_module_version": "1.2.0",
       "_view_name": "LayoutView",
       "align_content": null,
       "align_items": null,
       "align_self": null,
       "border": null,
       "bottom": null,
       "display": null,
       "flex": null,
       "flex_flow": null,
       "grid_area": null,
       "grid_auto_columns": null,
       "grid_auto_flow": null,
       "grid_auto_rows": null,
       "grid_column": null,
       "grid_gap": null,
       "grid_row": null,
       "grid_template_areas": null,
       "grid_template_columns": null,
       "grid_template_rows": null,
       "height": null,
       "justify_content": null,
       "justify_items": null,
       "left": null,
       "margin": null,
       "max_height": null,
       "max_width": null,
       "min_height": null,
       "min_width": null,
       "object_fit": null,
       "object_position": null,
       "order": null,
       "overflow": null,
       "overflow_x": null,
       "overflow_y": null,
       "padding": null,
       "right": null,
       "top": null,
       "visibility": null,
       "width": null
      }
     },
     "c456cdba767749618695a1eb3e0177a7": {
      "model_module": "@jupyter-widgets/controls",
      "model_module_version": "1.5.0",
      "model_name": "HBoxModel",
      "state": {
       "_dom_classes": [],
       "_model_module": "@jupyter-widgets/controls",
       "_model_module_version": "1.5.0",
       "_model_name": "HBoxModel",
       "_view_count": null,
       "_view_module": "@jupyter-widgets/controls",
       "_view_module_version": "1.5.0",
       "_view_name": "HBoxView",
       "box_style": "",
       "children": [
        "IPY_MODEL_c9014c8c721441909b8233ac6c941ccc",
        "IPY_MODEL_731048c67d9947fe978a310d362f69e7",
        "IPY_MODEL_20ced5e2d44b4766a09edccb26049a48"
       ],
       "layout": "IPY_MODEL_9ae135a7f1ec481aa94cf5b4fdbed441"
      }
     },
     "c52d46943ac24d31a95a8d9995d5551a": {
      "model_module": "@jupyter-widgets/controls",
      "model_module_version": "1.5.0",
      "model_name": "HBoxModel",
      "state": {
       "_dom_classes": [],
       "_model_module": "@jupyter-widgets/controls",
       "_model_module_version": "1.5.0",
       "_model_name": "HBoxModel",
       "_view_count": null,
       "_view_module": "@jupyter-widgets/controls",
       "_view_module_version": "1.5.0",
       "_view_name": "HBoxView",
       "box_style": "",
       "children": [
        "IPY_MODEL_69ee77ec2e1841c6aba8500152221d1f",
        "IPY_MODEL_dd3e550190dc40c992032ce3dbfd86ad",
        "IPY_MODEL_4b07b5fcd2b04b258e747c98611f422f"
       ],
       "layout": "IPY_MODEL_ddb5848170c2477db93d5fb1b950f66c"
      }
     },
     "c9014c8c721441909b8233ac6c941ccc": {
      "model_module": "@jupyter-widgets/controls",
      "model_module_version": "1.5.0",
      "model_name": "HTMLModel",
      "state": {
       "_dom_classes": [],
       "_model_module": "@jupyter-widgets/controls",
       "_model_module_version": "1.5.0",
       "_model_name": "HTMLModel",
       "_view_count": null,
       "_view_module": "@jupyter-widgets/controls",
       "_view_module_version": "1.5.0",
       "_view_name": "HTMLView",
       "description": "",
       "description_tooltip": null,
       "layout": "IPY_MODEL_dc71af53d5664a45bdf7eaab55607f69",
       "placeholder": "​",
       "style": "IPY_MODEL_82d3e7bb30764e219ccb0cef0ff81dd2",
       "value": "Loading checkpoint shards: 100%"
      }
     },
     "dc71af53d5664a45bdf7eaab55607f69": {
      "model_module": "@jupyter-widgets/base",
      "model_module_version": "1.2.0",
      "model_name": "LayoutModel",
      "state": {
       "_model_module": "@jupyter-widgets/base",
       "_model_module_version": "1.2.0",
       "_model_name": "LayoutModel",
       "_view_count": null,
       "_view_module": "@jupyter-widgets/base",
       "_view_module_version": "1.2.0",
       "_view_name": "LayoutView",
       "align_content": null,
       "align_items": null,
       "align_self": null,
       "border": null,
       "bottom": null,
       "display": null,
       "flex": null,
       "flex_flow": null,
       "grid_area": null,
       "grid_auto_columns": null,
       "grid_auto_flow": null,
       "grid_auto_rows": null,
       "grid_column": null,
       "grid_gap": null,
       "grid_row": null,
       "grid_template_areas": null,
       "grid_template_columns": null,
       "grid_template_rows": null,
       "height": null,
       "justify_content": null,
       "justify_items": null,
       "left": null,
       "margin": null,
       "max_height": null,
       "max_width": null,
       "min_height": null,
       "min_width": null,
       "object_fit": null,
       "object_position": null,
       "order": null,
       "overflow": null,
       "overflow_x": null,
       "overflow_y": null,
       "padding": null,
       "right": null,
       "top": null,
       "visibility": null,
       "width": null
      }
     },
     "dd3e550190dc40c992032ce3dbfd86ad": {
      "model_module": "@jupyter-widgets/controls",
      "model_module_version": "1.5.0",
      "model_name": "FloatProgressModel",
      "state": {
       "_dom_classes": [],
       "_model_module": "@jupyter-widgets/controls",
       "_model_module_version": "1.5.0",
       "_model_name": "FloatProgressModel",
       "_view_count": null,
       "_view_module": "@jupyter-widgets/controls",
       "_view_module_version": "1.5.0",
       "_view_name": "ProgressView",
       "bar_style": "success",
       "description": "",
       "description_tooltip": null,
       "layout": "IPY_MODEL_f73ccd6bb34e4376993978db457057a2",
       "max": 1,
       "min": 0,
       "orientation": "horizontal",
       "style": "IPY_MODEL_940382105f634c81a552ca6256959f4d",
       "value": 1
      }
     },
     "ddb5848170c2477db93d5fb1b950f66c": {
      "model_module": "@jupyter-widgets/base",
      "model_module_version": "1.2.0",
      "model_name": "LayoutModel",
      "state": {
       "_model_module": "@jupyter-widgets/base",
       "_model_module_version": "1.2.0",
       "_model_name": "LayoutModel",
       "_view_count": null,
       "_view_module": "@jupyter-widgets/base",
       "_view_module_version": "1.2.0",
       "_view_name": "LayoutView",
       "align_content": null,
       "align_items": null,
       "align_self": null,
       "border": null,
       "bottom": null,
       "display": null,
       "flex": null,
       "flex_flow": null,
       "grid_area": null,
       "grid_auto_columns": null,
       "grid_auto_flow": null,
       "grid_auto_rows": null,
       "grid_column": null,
       "grid_gap": null,
       "grid_row": null,
       "grid_template_areas": null,
       "grid_template_columns": null,
       "grid_template_rows": null,
       "height": null,
       "justify_content": null,
       "justify_items": null,
       "left": null,
       "margin": null,
       "max_height": null,
       "max_width": null,
       "min_height": null,
       "min_width": null,
       "object_fit": null,
       "object_position": null,
       "order": null,
       "overflow": null,
       "overflow_x": null,
       "overflow_y": null,
       "padding": null,
       "right": null,
       "top": null,
       "visibility": null,
       "width": null
      }
     },
     "f73ccd6bb34e4376993978db457057a2": {
      "model_module": "@jupyter-widgets/base",
      "model_module_version": "1.2.0",
      "model_name": "LayoutModel",
      "state": {
       "_model_module": "@jupyter-widgets/base",
       "_model_module_version": "1.2.0",
       "_model_name": "LayoutModel",
       "_view_count": null,
       "_view_module": "@jupyter-widgets/base",
       "_view_module_version": "1.2.0",
       "_view_name": "LayoutView",
       "align_content": null,
       "align_items": null,
       "align_self": null,
       "border": null,
       "bottom": null,
       "display": null,
       "flex": null,
       "flex_flow": null,
       "grid_area": null,
       "grid_auto_columns": null,
       "grid_auto_flow": null,
       "grid_auto_rows": null,
       "grid_column": null,
       "grid_gap": null,
       "grid_row": null,
       "grid_template_areas": null,
       "grid_template_columns": null,
       "grid_template_rows": null,
       "height": null,
       "justify_content": null,
       "justify_items": null,
       "left": null,
       "margin": null,
       "max_height": null,
       "max_width": null,
       "min_height": null,
       "min_width": null,
       "object_fit": null,
       "object_position": null,
       "order": null,
       "overflow": null,
       "overflow_x": null,
       "overflow_y": null,
       "padding": null,
       "right": null,
       "top": null,
       "visibility": null,
       "width": null
      }
     },
     "fa84e97caaba452da4ce94ed334465bd": {
      "model_module": "@jupyter-widgets/base",
      "model_module_version": "1.2.0",
      "model_name": "LayoutModel",
      "state": {
       "_model_module": "@jupyter-widgets/base",
       "_model_module_version": "1.2.0",
       "_model_name": "LayoutModel",
       "_view_count": null,
       "_view_module": "@jupyter-widgets/base",
       "_view_module_version": "1.2.0",
       "_view_name": "LayoutView",
       "align_content": null,
       "align_items": null,
       "align_self": null,
       "border": null,
       "bottom": null,
       "display": null,
       "flex": null,
       "flex_flow": null,
       "grid_area": null,
       "grid_auto_columns": null,
       "grid_auto_flow": null,
       "grid_auto_rows": null,
       "grid_column": null,
       "grid_gap": null,
       "grid_row": null,
       "grid_template_areas": null,
       "grid_template_columns": null,
       "grid_template_rows": null,
       "height": null,
       "justify_content": null,
       "justify_items": null,
       "left": null,
       "margin": null,
       "max_height": null,
       "max_width": null,
       "min_height": null,
       "min_width": null,
       "object_fit": null,
       "object_position": null,
       "order": null,
       "overflow": null,
       "overflow_x": null,
       "overflow_y": null,
       "padding": null,
       "right": null,
       "top": null,
       "visibility": null,
       "width": null
      }
     }
    },
    "version_major": 2,
    "version_minor": 0
   }
  }
 },
 "nbformat": 4,
 "nbformat_minor": 5
}
