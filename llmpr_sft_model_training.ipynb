{
  "cells": [
    {
      "cell_type": "markdown",
      "metadata": {
        "id": "DKTH-Rs9iTDF"
      },
      "source": [
        "# Phi2 SFT training baseline\n",
        "\n",
        "modified from notebook from [here](https://www.kaggle.com/code/mozhiwenmzw/0-61-llmpr-phi2-sft-model-training)\n",
        "\n",
        "## data\n",
        "\n",
        "use all public data, but dropped the dupilcate rewrite prompts.\n",
        "\n",
        "## hyperparamters\n",
        "\n",
        "epoch: 5\n",
        "\n",
        "batch size: 2\n",
        "\n",
        "gradient_accumulation_steps: 8\n",
        "\n",
        "max_seq_length: 512\n",
        "\n",
        "learing rate: 1e-4"
      ]
    },
    {
      "cell_type": "code",
      "execution_count": null,
      "metadata": {
        "colab": {
          "base_uri": "https://localhost:8080/"
        },
        "id": "MqUk2jUaivuN",
        "outputId": "e2bb2c36-11d7-43f7-e135-3fa27f36b5ab"
      },
      "outputs": [],
      "source": [
        "!pip install -Uq transformers accelerate datasets bitsandbytes trl peft wandb optimum packaging ninja\n",
        "!pip install flash-attn --no-build-isolation"
      ]
    },
    {
      "cell_type": "code",
      "execution_count": null,
      "metadata": {
        "id": "jmmzTZPoiTDG"
      },
      "outputs": [],
      "source": [
        "from google.colab import userdata\n",
        "import os\n",
        "# make sure to set the environment variables in colab\n",
        "os.environ['HUGGINGFACE_TOKEN'] = userdata.get('HUGGINGFACE_TOKEN')\n",
        "os.environ['WANDB_API_KEY'] = userdata.get('WANDB_API_KEY')\n",
        "\n",
        "os.environ['WANDB_PROJECT'] = 'llmpr_sft_phi2_run_1'"
      ]
    },
    {
      "cell_type": "code",
      "execution_count": null,
      "metadata": {
        "colab": {
          "base_uri": "https://localhost:8080/"
        },
        "id": "gGuIH-osjBHL",
        "outputId": "388bf716-5ec1-43ea-e5f7-12a56fbec885"
      },
      "outputs": [],
      "source": [
        "import wandb\n",
        "wandb.login()"
      ]
    },
    {
      "cell_type": "code",
      "execution_count": null,
      "metadata": {
        "colab": {
          "base_uri": "https://localhost:8080/"
        },
        "id": "boe2KGR_pHl2",
        "outputId": "476b599f-55df-4cdd-bbfe-5b218f8c1f30"
      },
      "outputs": [],
      "source": [
        "!huggingface-cli login --token $HUGGINGFACE_TOKEN"
      ]
    },
    {
      "cell_type": "code",
      "execution_count": null,
      "metadata": {
        "colab": {
          "base_uri": "https://localhost:8080/"
        },
        "id": "HIzpKWSAkRGk",
        "outputId": "3668815d-c3bf-404f-f04c-4afb59e2bcc9"
      },
      "outputs": [],
      "source": [
        "from google.colab import drive\n",
        "drive.mount('/content/drive')"
      ]
    },
    {
      "cell_type": "code",
      "execution_count": null,
      "metadata": {
        "execution": {
          "iopub.execute_input": "2024-03-30T07:11:13.50888Z",
          "iopub.status.busy": "2024-03-30T07:11:13.508584Z",
          "iopub.status.idle": "2024-03-30T07:11:33.534733Z",
          "shell.execute_reply": "2024-03-30T07:11:33.533745Z",
          "shell.execute_reply.started": "2024-03-30T07:11:13.508851Z"
        },
        "id": "fw3YvRF9iTDH",
        "trusted": true
      },
      "outputs": [],
      "source": [
        "import pandas as pd\n",
        "from sklearn.model_selection import train_test_split\n",
        "\n",
        "from datasets import Dataset\n",
        "from transformers import AutoTokenizer, AutoModelForCausalLM, BitsAndBytesConfig\n",
        "from transformers import TrainingArguments\n",
        "\n",
        "from trl import SFTTrainer, DataCollatorForCompletionOnlyLM\n",
        "from peft import LoraConfig\n",
        "import torch"
      ]
    },
    {
      "cell_type": "code",
      "execution_count": null,
      "metadata": {
        "execution": {
          "iopub.execute_input": "2024-03-30T07:11:33.536966Z",
          "iopub.status.busy": "2024-03-30T07:11:33.536157Z",
          "iopub.status.idle": "2024-03-30T07:11:33.54185Z",
          "shell.execute_reply": "2024-03-30T07:11:33.540948Z",
          "shell.execute_reply.started": "2024-03-30T07:11:33.536929Z"
        },
        "id": "MptjPFtliTDH",
        "trusted": true
      },
      "outputs": [],
      "source": [
        "exp_name = 'phi2_sft'\n",
        "data_path = '/content/drive/MyDrive/' # path to the data\n",
        "model_path = 'microsoft/phi-2'\n",
        "output_path = f'outputs'\n",
        "model_save_path =  f'/content/drive/MyDrive/' # path to save the model"
      ]
    },
    {
      "cell_type": "code",
      "execution_count": null,
      "metadata": {
        "execution": {
          "iopub.execute_input": "2024-03-30T07:11:33.544684Z",
          "iopub.status.busy": "2024-03-30T07:11:33.544418Z",
          "iopub.status.idle": "2024-03-30T07:11:33.570353Z",
          "shell.execute_reply": "2024-03-30T07:11:33.569517Z",
          "shell.execute_reply.started": "2024-03-30T07:11:33.544661Z"
        },
        "id": "QlG7TZ2_iTDH",
        "trusted": true
      },
      "outputs": [],
      "source": [
        "# parameters that keep GPU memory under 24GB (L4 in this case)\n",
        "epochs=10\n",
        "batch_size=2 # 2\n",
        "max_seq_length=512 # 1024\n",
        "lr = 1e-4"
      ]
    },
    {
      "cell_type": "code",
      "execution_count": null,
      "metadata": {
        "execution": {
          "iopub.execute_input": "2024-03-30T07:11:33.571845Z",
          "iopub.status.busy": "2024-03-30T07:11:33.571536Z",
          "iopub.status.idle": "2024-03-30T07:11:34.246561Z",
          "shell.execute_reply": "2024-03-30T07:11:34.245746Z",
          "shell.execute_reply.started": "2024-03-30T07:11:33.57182Z"
        },
        "id": "zyVQvmTsiTDH",
        "trusted": true
      },
      "outputs": [],
      "source": [
        "df = pd.read_csv(data_path)\n",
        "train_df, val_df = train_test_split(df, test_size=0.1, random_state=42)\n",
        "train_df = train_df.reset_index(drop=True)\n",
        "val_df = val_df.reset_index(drop=True)"
      ]
    },
    {
      "cell_type": "code",
      "execution_count": null,
      "metadata": {
        "execution": {
          "iopub.execute_input": "2024-03-30T07:11:34.247928Z",
          "iopub.status.busy": "2024-03-30T07:11:34.247634Z",
          "iopub.status.idle": "2024-03-30T07:11:34.331974Z",
          "shell.execute_reply": "2024-03-30T07:11:34.331005Z",
          "shell.execute_reply.started": "2024-03-30T07:11:34.247904Z"
        },
        "id": "ue_Vy_4miTDI",
        "trusted": true
      },
      "outputs": [],
      "source": [
        "train_ds = Dataset.from_pandas(train_df)\n",
        "val_ds = Dataset.from_pandas(val_df)"
      ]
    },
    {
      "cell_type": "code",
      "execution_count": null,
      "metadata": {
        "colab": {
          "base_uri": "https://localhost:8080/"
        },
        "execution": {
          "iopub.execute_input": "2024-03-30T07:11:34.333503Z",
          "iopub.status.busy": "2024-03-30T07:11:34.333216Z",
          "iopub.status.idle": "2024-03-30T07:11:34.460328Z",
          "shell.execute_reply": "2024-03-30T07:11:34.459289Z",
          "shell.execute_reply.started": "2024-03-30T07:11:34.333478Z"
        },
        "id": "SaneechjiTDI",
        "outputId": "c5092b82-d826-435c-ef31-4ff87fbea036",
        "trusted": true
      },
      "outputs": [],
      "source": [
        "tokenizer = AutoTokenizer.from_pretrained(\n",
        "    model_path,\n",
        "    )\n",
        "tokenizer.pad_token = tokenizer.eos_token"
      ]
    },
    {
      "cell_type": "code",
      "execution_count": null,
      "metadata": {
        "execution": {
          "iopub.execute_input": "2024-03-30T07:11:34.462157Z",
          "iopub.status.busy": "2024-03-30T07:11:34.461805Z",
          "iopub.status.idle": "2024-03-30T07:11:34.470099Z",
          "shell.execute_reply": "2024-03-30T07:11:34.468987Z",
          "shell.execute_reply.started": "2024-03-30T07:11:34.462124Z"
        },
        "id": "gP8HdDwEiTDI",
        "trusted": true
      },
      "outputs": [],
      "source": [
        "bnb_config = BitsAndBytesConfig(\n",
        "        load_in_4bit=True,\n",
        "        bnb_4bit_quant_type='nf4',\n",
        "        bnb_4bit_compute_dtype='float16',\n",
        "        bnb_4bit_use_double_quant=False,\n",
        "    )"
      ]
    },
    {
      "cell_type": "code",
      "execution_count": null,
      "metadata": {
        "colab": {
          "base_uri": "https://localhost:8080/",
          "height": 123,
          "referenced_widgets": [
            "9987dd8aeac84099a8b662fef78e18d9",
            "1237aa26103f45028d917b2db45c6615",
            "8588d67feed440fe9ed8905afd21ac19",
            "d21dd9a6e8ef4c54808ec935addd8049",
            "6ebab35c5e7a448f822a0110d2aecf86",
            "1442ac1d6d1f4a51857f99a254c089a1",
            "10f64fa75a5b4ff4835e14d85a69f2d5",
            "ecb14a1c37b0459ea1a6712f7c8763a5",
            "b81cc1217cf14fa2b13c47fe51ec341a",
            "b3671732cb054d688d3666d130d73eb7",
            "fd830aff069244c8b11c6afee789e3b1"
          ]
        },
        "execution": {
          "iopub.execute_input": "2024-03-30T07:11:34.472108Z",
          "iopub.status.busy": "2024-03-30T07:11:34.471748Z",
          "iopub.status.idle": "2024-03-30T07:12:44.227166Z",
          "shell.execute_reply": "2024-03-30T07:12:44.226353Z",
          "shell.execute_reply.started": "2024-03-30T07:11:34.47207Z"
        },
        "id": "yb4SpvHSiTDI",
        "outputId": "2c2a1029-55cf-41e3-a36c-8285febcf5c4",
        "trusted": true
      },
      "outputs": [],
      "source": [
        "model = AutoModelForCausalLM.from_pretrained(model_path,\n",
        "                                             quantization_config=bnb_config,\n",
        "                                             trust_remote_code=True,\n",
        "                                             attn_implementation=\"flash_attention_2\",\n",
        "                                             torch_dtype=torch.bfloat16,\n",
        "                                             use_auth_token=True)"
      ]
    },
    {
      "cell_type": "code",
      "execution_count": null,
      "metadata": {
        "execution": {
          "iopub.execute_input": "2024-03-30T07:12:44.228514Z",
          "iopub.status.busy": "2024-03-30T07:12:44.228234Z",
          "iopub.status.idle": "2024-03-30T07:12:44.233145Z",
          "shell.execute_reply": "2024-03-30T07:12:44.232013Z",
          "shell.execute_reply.started": "2024-03-30T07:12:44.228481Z"
        },
        "id": "ZYaAyB5oiTDI",
        "trusted": true
      },
      "outputs": [],
      "source": [
        "model.config.gradient_checkpointing = True"
      ]
    },
    {
      "cell_type": "code",
      "execution_count": null,
      "metadata": {
        "execution": {
          "iopub.execute_input": "2024-03-30T07:12:44.234516Z",
          "iopub.status.busy": "2024-03-30T07:12:44.234237Z",
          "iopub.status.idle": "2024-03-30T07:12:44.245897Z",
          "shell.execute_reply": "2024-03-30T07:12:44.245083Z",
          "shell.execute_reply.started": "2024-03-30T07:12:44.234491Z"
        },
        "id": "0gGTiIiviTDI",
        "trusted": true
      },
      "outputs": [],
      "source": [
        "def token_len(text):\n",
        "    tokenized = tokenizer(text, return_length=True)\n",
        "    length = tokenized['length'][0]\n",
        "    return length"
      ]
    },
    {
      "cell_type": "code",
      "execution_count": null,
      "metadata": {
        "execution": {
          "iopub.execute_input": "2024-03-30T07:12:44.247162Z",
          "iopub.status.busy": "2024-03-30T07:12:44.246895Z",
          "iopub.status.idle": "2024-03-30T07:12:44.258008Z",
          "shell.execute_reply": "2024-03-30T07:12:44.257254Z",
          "shell.execute_reply.started": "2024-03-30T07:12:44.247139Z"
        },
        "id": "70l4vhdgiTDI",
        "trusted": true
      },
      "outputs": [],
      "source": [
        "def formatting_prompts_func(example):\n",
        "    output_texts = []\n",
        "    for i in range(len(example['rewritten_text'])):\n",
        "        ori_text = example['original_text'][i]\n",
        "        rew_text = example['rewritten_text'][i]\n",
        "        rew_prompt = example['rewrite_prompt'][i]\n",
        "        text = f\"Instruct: Original Text:{ori_text}\\nRewritten Text:{rew_text}\\nWrite a prompt that was likely given to the LLM to rewrite original text into rewritten text.Output: {rew_prompt}\"\n",
        "        if token_len(text) > max_seq_length:\n",
        "            continue\n",
        "        output_texts.append(text)\n",
        "    return output_texts"
      ]
    },
    {
      "cell_type": "code",
      "execution_count": null,
      "metadata": {
        "execution": {
          "iopub.execute_input": "2024-03-30T07:12:44.261478Z",
          "iopub.status.busy": "2024-03-30T07:12:44.261219Z",
          "iopub.status.idle": "2024-03-30T07:12:44.276321Z",
          "shell.execute_reply": "2024-03-30T07:12:44.275564Z",
          "shell.execute_reply.started": "2024-03-30T07:12:44.261455Z"
        },
        "id": "Vp3URwpkiTDI",
        "trusted": true
      },
      "outputs": [],
      "source": [
        "response_template = \"Output:\"\n",
        "collator = DataCollatorForCompletionOnlyLM(response_template=response_template,\n",
        "                                           tokenizer=tokenizer)"
      ]
    },
    {
      "cell_type": "code",
      "execution_count": null,
      "metadata": {
        "execution": {
          "iopub.execute_input": "2024-03-30T07:12:44.27762Z",
          "iopub.status.busy": "2024-03-30T07:12:44.277368Z",
          "iopub.status.idle": "2024-03-30T07:12:44.283611Z",
          "shell.execute_reply": "2024-03-30T07:12:44.282661Z",
          "shell.execute_reply.started": "2024-03-30T07:12:44.277598Z"
        },
        "id": "39TX3NqQiTDI",
        "trusted": true
      },
      "outputs": [],
      "source": [
        "peft_config = LoraConfig(\n",
        "    r=16,\n",
        "    lora_alpha=32,\n",
        "    lora_dropout=0.05,\n",
        "    bias=\"none\",\n",
        "    task_type=\"CAUSAL_LM\",\n",
        "    target_modules= [\"q_proj\", \"k_proj\", \"v_proj\", \"dense\"],\n",
        ")"
      ]
    },
    {
      "cell_type": "code",
      "execution_count": null,
      "metadata": {
        "execution": {
          "iopub.execute_input": "2024-03-30T07:12:44.284964Z",
          "iopub.status.busy": "2024-03-30T07:12:44.284677Z",
          "iopub.status.idle": "2024-03-30T07:12:44.295379Z",
          "shell.execute_reply": "2024-03-30T07:12:44.294645Z",
          "shell.execute_reply.started": "2024-03-30T07:12:44.284942Z"
        },
        "id": "Nx_32EqgiTDI",
        "trusted": true
      },
      "outputs": [],
      "source": [
        "args = TrainingArguments(\n",
        "    output_dir = output_path,\n",
        "    bf16=True,\n",
        "    learning_rate=lr,\n",
        "    optim=\"adamw_torch\",\n",
        "    num_train_epochs=epochs,\n",
        "    per_device_train_batch_size=batch_size,\n",
        "    per_device_eval_batch_size=batch_size*2,\n",
        "    gradient_accumulation_steps=8,\n",
        "    evaluation_strategy=\"epoch\",\n",
        "    save_strategy=\"epoch\",\n",
        "    save_total_limit=1,\n",
        "    logging_steps=10,\n",
        "    lr_scheduler_type=\"cosine\",\n",
        "    warmup_ratio=0.1,\n",
        "    weight_decay=0.01,\n",
        "    report_to='wandb',\n",
        "    load_best_model_at_end=True,\n",
        "    metric_for_best_model=\"eval_loss\",\n",
        "    )"
      ]
    },
    {
      "cell_type": "code",
      "execution_count": null,
      "metadata": {
        "colab": {
          "base_uri": "https://localhost:8080/",
          "height": 190,
          "referenced_widgets": [
            "a30805a0402e4513b3a7a1c9b58fd884",
            "72a7ae5bd10e403b826b5f3c9a3eedfd",
            "b8ec4776fb60476b9344e0197c6f6fc6",
            "cbc135552658412e82c321c64cbd3476",
            "7e51106cecff4e32a40a19576c31fdc0",
            "4808b74393274344b0d02a09ca0e7098",
            "7fda1ea811a94a439e715e054438a440",
            "bd8a9b7643094b37b72b25c8ab9f4054",
            "528d13241e374f1b9c3dfc58d44563b5",
            "5f685ba010bf4487b7ed5a8a717362ed",
            "b34cde4a1fa942618ba550ec6cd937ea",
            "2853ff5133f4493fa54115cae668d4d6",
            "f7b24132ebca47849efedec2c9494df4",
            "7c7919ca96774acc8cb1ed4ab176857f",
            "6bd44fb1459640b498ac2dd1f5fcd4d6",
            "be85656e83dc4a209fd6b3a34c7e9f22",
            "c568ffff0264499da2add3f505bed0af",
            "73a317a5d2ee41ad8f38a62007bc9023",
            "a9385bd021ee4fb69edea5fa8d1fe343",
            "884249356a024d9298d7e42b1a1a67fc",
            "f7966579fa2c4713bce2a75c8cdf0fcf",
            "ec0465d0c5304e69874526f72e92ea79"
          ]
        },
        "execution": {
          "iopub.execute_input": "2024-03-30T07:12:44.296483Z",
          "iopub.status.busy": "2024-03-30T07:12:44.296239Z",
          "iopub.status.idle": "2024-03-30T07:13:22.12055Z",
          "shell.execute_reply": "2024-03-30T07:13:22.11952Z",
          "shell.execute_reply.started": "2024-03-30T07:12:44.296461Z"
        },
        "id": "ABkxMSmWiTDI",
        "outputId": "4184bee9-38ee-45ee-ad7b-7e1b49702b3f",
        "trusted": true
      },
      "outputs": [],
      "source": [
        "trainer = SFTTrainer(\n",
        "    model=model,\n",
        "    args = args,\n",
        "    max_seq_length=max_seq_length,\n",
        "    train_dataset=train_ds,\n",
        "    eval_dataset=val_ds,\n",
        "    formatting_func=formatting_prompts_func,\n",
        "    data_collator=collator,\n",
        "    peft_config=peft_config,\n",
        ")"
      ]
    },
    {
      "cell_type": "code",
      "execution_count": null,
      "metadata": {
        "colab": {
          "base_uri": "https://localhost:8080/",
          "height": 783
        },
        "execution": {
          "iopub.execute_input": "2024-03-30T07:13:22.121878Z",
          "iopub.status.busy": "2024-03-30T07:13:22.121562Z"
        },
        "id": "gmUuXZhjiTDJ",
        "outputId": "443fc780-ba7e-4dac-ddb4-13f8a5b61580",
        "trusted": true
      },
      "outputs": [],
      "source": [
        "trainer.train()"
      ]
    },
    {
      "cell_type": "code",
      "execution_count": null,
      "metadata": {
        "colab": {
          "base_uri": "https://localhost:8080/",
          "height": 880,
          "referenced_widgets": [
            "d65c09f8f5cb4788a70306c3bb0d1270",
            "6a88a9e8663b4651bdcf9e6df5c093ae",
            "1c0b9afdabdf45a5b6f69a2278858df4",
            "5417c6eecbca4c50b02e3dedde67c0f3",
            "32b90bb1c6c34df69dfaeff1d174ad70",
            "d633cbfbb4f24194bad274b65bac1017",
            "ec28bbd833d54138bffaf325589f6b5d",
            "b07ee9df2d434103b50c7c4866b36142"
          ]
        },
        "id": "_JN5JknaiTDJ",
        "outputId": "3a0ef3ef-d9b2-4d19-8f22-f0bb52a63d7b",
        "trusted": true
      },
      "outputs": [],
      "source": [
        "wandb.finish()\n",
        "# model = model.reverse_bettertransformer()\n",
        "trainer.save_model(model_save_path)\n",
        "tokenizer.save_pretrained(model_save_path)"
      ]
    },
    {
      "cell_type": "code",
      "execution_count": null,
      "metadata": {
        "id": "5R-RgiU5xLCA"
      },
      "outputs": [],
      "source": [
        "from google.colab import runtime\n",
        "runtime.unassign()"
      ]
    }
  ],
  "metadata": {
    "accelerator": "GPU",
    "colab": {
      "gpuType": "L4",
      "machine_shape": "hm",
      "provenance": []
    },
    "kaggle": {
      "accelerator": "gpu",
      "dataSources": [
        {
          "databundleVersionId": 7806901,
          "sourceId": 67121,
          "sourceType": "competition"
        },
        {
          "datasetId": 3600418,
          "sourceId": 6572938,
          "sourceType": "datasetVersion"
        },
        {
          "datasetId": 4661387,
          "sourceId": 7930545,
          "sourceType": "datasetVersion"
        },
        {
          "sourceId": 164964691,
          "sourceType": "kernelVersion"
        },
        {
          "modelInstanceId": 8658,
          "sourceId": 10716,
          "sourceType": "modelInstanceVersion"
        }
      ],
      "dockerImageVersionId": 30674,
      "isGpuEnabled": true,
      "isInternetEnabled": true,
      "language": "python",
      "sourceType": "notebook"
    },
    "kernelspec": {
      "display_name": "Python 3",
      "name": "python3"
    },
    "language_info": {
      "codemirror_mode": {
        "name": "ipython",
        "version": 3
      },
      "file_extension": ".py",
      "mimetype": "text/x-python",
      "name": "python",
      "nbconvert_exporter": "python",
      "pygments_lexer": "ipython3",
      "version": "3.9.18"
    },
    "widgets": {
      "application/vnd.jupyter.widget-state+json": {
        "10f64fa75a5b4ff4835e14d85a69f2d5": {
          "model_module": "@jupyter-widgets/controls",
          "model_module_version": "1.5.0",
          "model_name": "DescriptionStyleModel",
          "state": {
            "_model_module": "@jupyter-widgets/controls",
            "_model_module_version": "1.5.0",
            "_model_name": "DescriptionStyleModel",
            "_view_count": null,
            "_view_module": "@jupyter-widgets/base",
            "_view_module_version": "1.2.0",
            "_view_name": "StyleView",
            "description_width": ""
          }
        },
        "1237aa26103f45028d917b2db45c6615": {
          "model_module": "@jupyter-widgets/controls",
          "model_module_version": "1.5.0",
          "model_name": "HTMLModel",
          "state": {
            "_dom_classes": [],
            "_model_module": "@jupyter-widgets/controls",
            "_model_module_version": "1.5.0",
            "_model_name": "HTMLModel",
            "_view_count": null,
            "_view_module": "@jupyter-widgets/controls",
            "_view_module_version": "1.5.0",
            "_view_name": "HTMLView",
            "description": "",
            "description_tooltip": null,
            "layout": "IPY_MODEL_1442ac1d6d1f4a51857f99a254c089a1",
            "placeholder": "​",
            "style": "IPY_MODEL_10f64fa75a5b4ff4835e14d85a69f2d5",
            "value": "Loading checkpoint shards: 100%"
          }
        },
        "1442ac1d6d1f4a51857f99a254c089a1": {
          "model_module": "@jupyter-widgets/base",
          "model_module_version": "1.2.0",
          "model_name": "LayoutModel",
          "state": {
            "_model_module": "@jupyter-widgets/base",
            "_model_module_version": "1.2.0",
            "_model_name": "LayoutModel",
            "_view_count": null,
            "_view_module": "@jupyter-widgets/base",
            "_view_module_version": "1.2.0",
            "_view_name": "LayoutView",
            "align_content": null,
            "align_items": null,
            "align_self": null,
            "border": null,
            "bottom": null,
            "display": null,
            "flex": null,
            "flex_flow": null,
            "grid_area": null,
            "grid_auto_columns": null,
            "grid_auto_flow": null,
            "grid_auto_rows": null,
            "grid_column": null,
            "grid_gap": null,
            "grid_row": null,
            "grid_template_areas": null,
            "grid_template_columns": null,
            "grid_template_rows": null,
            "height": null,
            "justify_content": null,
            "justify_items": null,
            "left": null,
            "margin": null,
            "max_height": null,
            "max_width": null,
            "min_height": null,
            "min_width": null,
            "object_fit": null,
            "object_position": null,
            "order": null,
            "overflow": null,
            "overflow_x": null,
            "overflow_y": null,
            "padding": null,
            "right": null,
            "top": null,
            "visibility": null,
            "width": null
          }
        },
        "1c0b9afdabdf45a5b6f69a2278858df4": {
          "model_module": "@jupyter-widgets/controls",
          "model_module_version": "1.5.0",
          "model_name": "FloatProgressModel",
          "state": {
            "_dom_classes": [],
            "_model_module": "@jupyter-widgets/controls",
            "_model_module_version": "1.5.0",
            "_model_name": "FloatProgressModel",
            "_view_count": null,
            "_view_module": "@jupyter-widgets/controls",
            "_view_module_version": "1.5.0",
            "_view_name": "ProgressView",
            "bar_style": "",
            "description": "",
            "description_tooltip": null,
            "layout": "IPY_MODEL_ec28bbd833d54138bffaf325589f6b5d",
            "max": 1,
            "min": 0,
            "orientation": "horizontal",
            "style": "IPY_MODEL_b07ee9df2d434103b50c7c4866b36142",
            "value": 1
          }
        },
        "2853ff5133f4493fa54115cae668d4d6": {
          "model_module": "@jupyter-widgets/controls",
          "model_module_version": "1.5.0",
          "model_name": "HBoxModel",
          "state": {
            "_dom_classes": [],
            "_model_module": "@jupyter-widgets/controls",
            "_model_module_version": "1.5.0",
            "_model_name": "HBoxModel",
            "_view_count": null,
            "_view_module": "@jupyter-widgets/controls",
            "_view_module_version": "1.5.0",
            "_view_name": "HBoxView",
            "box_style": "",
            "children": [
              "IPY_MODEL_f7b24132ebca47849efedec2c9494df4",
              "IPY_MODEL_7c7919ca96774acc8cb1ed4ab176857f",
              "IPY_MODEL_6bd44fb1459640b498ac2dd1f5fcd4d6"
            ],
            "layout": "IPY_MODEL_be85656e83dc4a209fd6b3a34c7e9f22"
          }
        },
        "32b90bb1c6c34df69dfaeff1d174ad70": {
          "model_module": "@jupyter-widgets/base",
          "model_module_version": "1.2.0",
          "model_name": "LayoutModel",
          "state": {
            "_model_module": "@jupyter-widgets/base",
            "_model_module_version": "1.2.0",
            "_model_name": "LayoutModel",
            "_view_count": null,
            "_view_module": "@jupyter-widgets/base",
            "_view_module_version": "1.2.0",
            "_view_name": "LayoutView",
            "align_content": null,
            "align_items": null,
            "align_self": null,
            "border": null,
            "bottom": null,
            "display": null,
            "flex": null,
            "flex_flow": null,
            "grid_area": null,
            "grid_auto_columns": null,
            "grid_auto_flow": null,
            "grid_auto_rows": null,
            "grid_column": null,
            "grid_gap": null,
            "grid_row": null,
            "grid_template_areas": null,
            "grid_template_columns": null,
            "grid_template_rows": null,
            "height": null,
            "justify_content": null,
            "justify_items": null,
            "left": null,
            "margin": null,
            "max_height": null,
            "max_width": null,
            "min_height": null,
            "min_width": null,
            "object_fit": null,
            "object_position": null,
            "order": null,
            "overflow": null,
            "overflow_x": null,
            "overflow_y": null,
            "padding": null,
            "right": null,
            "top": null,
            "visibility": null,
            "width": null
          }
        },
        "4808b74393274344b0d02a09ca0e7098": {
          "model_module": "@jupyter-widgets/base",
          "model_module_version": "1.2.0",
          "model_name": "LayoutModel",
          "state": {
            "_model_module": "@jupyter-widgets/base",
            "_model_module_version": "1.2.0",
            "_model_name": "LayoutModel",
            "_view_count": null,
            "_view_module": "@jupyter-widgets/base",
            "_view_module_version": "1.2.0",
            "_view_name": "LayoutView",
            "align_content": null,
            "align_items": null,
            "align_self": null,
            "border": null,
            "bottom": null,
            "display": null,
            "flex": null,
            "flex_flow": null,
            "grid_area": null,
            "grid_auto_columns": null,
            "grid_auto_flow": null,
            "grid_auto_rows": null,
            "grid_column": null,
            "grid_gap": null,
            "grid_row": null,
            "grid_template_areas": null,
            "grid_template_columns": null,
            "grid_template_rows": null,
            "height": null,
            "justify_content": null,
            "justify_items": null,
            "left": null,
            "margin": null,
            "max_height": null,
            "max_width": null,
            "min_height": null,
            "min_width": null,
            "object_fit": null,
            "object_position": null,
            "order": null,
            "overflow": null,
            "overflow_x": null,
            "overflow_y": null,
            "padding": null,
            "right": null,
            "top": null,
            "visibility": null,
            "width": null
          }
        },
        "528d13241e374f1b9c3dfc58d44563b5": {
          "model_module": "@jupyter-widgets/controls",
          "model_module_version": "1.5.0",
          "model_name": "ProgressStyleModel",
          "state": {
            "_model_module": "@jupyter-widgets/controls",
            "_model_module_version": "1.5.0",
            "_model_name": "ProgressStyleModel",
            "_view_count": null,
            "_view_module": "@jupyter-widgets/base",
            "_view_module_version": "1.2.0",
            "_view_name": "StyleView",
            "bar_color": null,
            "description_width": ""
          }
        },
        "5417c6eecbca4c50b02e3dedde67c0f3": {
          "model_module": "@jupyter-widgets/base",
          "model_module_version": "1.2.0",
          "model_name": "LayoutModel",
          "state": {
            "_model_module": "@jupyter-widgets/base",
            "_model_module_version": "1.2.0",
            "_model_name": "LayoutModel",
            "_view_count": null,
            "_view_module": "@jupyter-widgets/base",
            "_view_module_version": "1.2.0",
            "_view_name": "LayoutView",
            "align_content": null,
            "align_items": null,
            "align_self": null,
            "border": null,
            "bottom": null,
            "display": null,
            "flex": null,
            "flex_flow": null,
            "grid_area": null,
            "grid_auto_columns": null,
            "grid_auto_flow": null,
            "grid_auto_rows": null,
            "grid_column": null,
            "grid_gap": null,
            "grid_row": null,
            "grid_template_areas": null,
            "grid_template_columns": null,
            "grid_template_rows": null,
            "height": null,
            "justify_content": null,
            "justify_items": null,
            "left": null,
            "margin": null,
            "max_height": null,
            "max_width": null,
            "min_height": null,
            "min_width": null,
            "object_fit": null,
            "object_position": null,
            "order": null,
            "overflow": null,
            "overflow_x": null,
            "overflow_y": null,
            "padding": null,
            "right": null,
            "top": null,
            "visibility": null,
            "width": null
          }
        },
        "5f685ba010bf4487b7ed5a8a717362ed": {
          "model_module": "@jupyter-widgets/base",
          "model_module_version": "1.2.0",
          "model_name": "LayoutModel",
          "state": {
            "_model_module": "@jupyter-widgets/base",
            "_model_module_version": "1.2.0",
            "_model_name": "LayoutModel",
            "_view_count": null,
            "_view_module": "@jupyter-widgets/base",
            "_view_module_version": "1.2.0",
            "_view_name": "LayoutView",
            "align_content": null,
            "align_items": null,
            "align_self": null,
            "border": null,
            "bottom": null,
            "display": null,
            "flex": null,
            "flex_flow": null,
            "grid_area": null,
            "grid_auto_columns": null,
            "grid_auto_flow": null,
            "grid_auto_rows": null,
            "grid_column": null,
            "grid_gap": null,
            "grid_row": null,
            "grid_template_areas": null,
            "grid_template_columns": null,
            "grid_template_rows": null,
            "height": null,
            "justify_content": null,
            "justify_items": null,
            "left": null,
            "margin": null,
            "max_height": null,
            "max_width": null,
            "min_height": null,
            "min_width": null,
            "object_fit": null,
            "object_position": null,
            "order": null,
            "overflow": null,
            "overflow_x": null,
            "overflow_y": null,
            "padding": null,
            "right": null,
            "top": null,
            "visibility": null,
            "width": null
          }
        },
        "6a88a9e8663b4651bdcf9e6df5c093ae": {
          "model_module": "@jupyter-widgets/controls",
          "model_module_version": "1.5.0",
          "model_name": "LabelModel",
          "state": {
            "_dom_classes": [],
            "_model_module": "@jupyter-widgets/controls",
            "_model_module_version": "1.5.0",
            "_model_name": "LabelModel",
            "_view_count": null,
            "_view_module": "@jupyter-widgets/controls",
            "_view_module_version": "1.5.0",
            "_view_name": "LabelView",
            "description": "",
            "description_tooltip": null,
            "layout": "IPY_MODEL_32b90bb1c6c34df69dfaeff1d174ad70",
            "placeholder": "​",
            "style": "IPY_MODEL_d633cbfbb4f24194bad274b65bac1017",
            "value": "0.023 MB of 0.023 MB uploaded\r"
          }
        },
        "6bd44fb1459640b498ac2dd1f5fcd4d6": {
          "model_module": "@jupyter-widgets/controls",
          "model_module_version": "1.5.0",
          "model_name": "HTMLModel",
          "state": {
            "_dom_classes": [],
            "_model_module": "@jupyter-widgets/controls",
            "_model_module_version": "1.5.0",
            "_model_name": "HTMLModel",
            "_view_count": null,
            "_view_module": "@jupyter-widgets/controls",
            "_view_module_version": "1.5.0",
            "_view_name": "HTMLView",
            "description": "",
            "description_tooltip": null,
            "layout": "IPY_MODEL_f7966579fa2c4713bce2a75c8cdf0fcf",
            "placeholder": "​",
            "style": "IPY_MODEL_ec0465d0c5304e69874526f72e92ea79",
            "value": " 1058/1058 [00:04&lt;00:00, 267.09 examples/s]"
          }
        },
        "6ebab35c5e7a448f822a0110d2aecf86": {
          "model_module": "@jupyter-widgets/base",
          "model_module_version": "1.2.0",
          "model_name": "LayoutModel",
          "state": {
            "_model_module": "@jupyter-widgets/base",
            "_model_module_version": "1.2.0",
            "_model_name": "LayoutModel",
            "_view_count": null,
            "_view_module": "@jupyter-widgets/base",
            "_view_module_version": "1.2.0",
            "_view_name": "LayoutView",
            "align_content": null,
            "align_items": null,
            "align_self": null,
            "border": null,
            "bottom": null,
            "display": null,
            "flex": null,
            "flex_flow": null,
            "grid_area": null,
            "grid_auto_columns": null,
            "grid_auto_flow": null,
            "grid_auto_rows": null,
            "grid_column": null,
            "grid_gap": null,
            "grid_row": null,
            "grid_template_areas": null,
            "grid_template_columns": null,
            "grid_template_rows": null,
            "height": null,
            "justify_content": null,
            "justify_items": null,
            "left": null,
            "margin": null,
            "max_height": null,
            "max_width": null,
            "min_height": null,
            "min_width": null,
            "object_fit": null,
            "object_position": null,
            "order": null,
            "overflow": null,
            "overflow_x": null,
            "overflow_y": null,
            "padding": null,
            "right": null,
            "top": null,
            "visibility": null,
            "width": null
          }
        },
        "72a7ae5bd10e403b826b5f3c9a3eedfd": {
          "model_module": "@jupyter-widgets/controls",
          "model_module_version": "1.5.0",
          "model_name": "HTMLModel",
          "state": {
            "_dom_classes": [],
            "_model_module": "@jupyter-widgets/controls",
            "_model_module_version": "1.5.0",
            "_model_name": "HTMLModel",
            "_view_count": null,
            "_view_module": "@jupyter-widgets/controls",
            "_view_module_version": "1.5.0",
            "_view_name": "HTMLView",
            "description": "",
            "description_tooltip": null,
            "layout": "IPY_MODEL_4808b74393274344b0d02a09ca0e7098",
            "placeholder": "​",
            "style": "IPY_MODEL_7fda1ea811a94a439e715e054438a440",
            "value": "Map: 100%"
          }
        },
        "73a317a5d2ee41ad8f38a62007bc9023": {
          "model_module": "@jupyter-widgets/controls",
          "model_module_version": "1.5.0",
          "model_name": "DescriptionStyleModel",
          "state": {
            "_model_module": "@jupyter-widgets/controls",
            "_model_module_version": "1.5.0",
            "_model_name": "DescriptionStyleModel",
            "_view_count": null,
            "_view_module": "@jupyter-widgets/base",
            "_view_module_version": "1.2.0",
            "_view_name": "StyleView",
            "description_width": ""
          }
        },
        "7c7919ca96774acc8cb1ed4ab176857f": {
          "model_module": "@jupyter-widgets/controls",
          "model_module_version": "1.5.0",
          "model_name": "FloatProgressModel",
          "state": {
            "_dom_classes": [],
            "_model_module": "@jupyter-widgets/controls",
            "_model_module_version": "1.5.0",
            "_model_name": "FloatProgressModel",
            "_view_count": null,
            "_view_module": "@jupyter-widgets/controls",
            "_view_module_version": "1.5.0",
            "_view_name": "ProgressView",
            "bar_style": "success",
            "description": "",
            "description_tooltip": null,
            "layout": "IPY_MODEL_a9385bd021ee4fb69edea5fa8d1fe343",
            "max": 1058,
            "min": 0,
            "orientation": "horizontal",
            "style": "IPY_MODEL_884249356a024d9298d7e42b1a1a67fc",
            "value": 1058
          }
        },
        "7e51106cecff4e32a40a19576c31fdc0": {
          "model_module": "@jupyter-widgets/base",
          "model_module_version": "1.2.0",
          "model_name": "LayoutModel",
          "state": {
            "_model_module": "@jupyter-widgets/base",
            "_model_module_version": "1.2.0",
            "_model_name": "LayoutModel",
            "_view_count": null,
            "_view_module": "@jupyter-widgets/base",
            "_view_module_version": "1.2.0",
            "_view_name": "LayoutView",
            "align_content": null,
            "align_items": null,
            "align_self": null,
            "border": null,
            "bottom": null,
            "display": null,
            "flex": null,
            "flex_flow": null,
            "grid_area": null,
            "grid_auto_columns": null,
            "grid_auto_flow": null,
            "grid_auto_rows": null,
            "grid_column": null,
            "grid_gap": null,
            "grid_row": null,
            "grid_template_areas": null,
            "grid_template_columns": null,
            "grid_template_rows": null,
            "height": null,
            "justify_content": null,
            "justify_items": null,
            "left": null,
            "margin": null,
            "max_height": null,
            "max_width": null,
            "min_height": null,
            "min_width": null,
            "object_fit": null,
            "object_position": null,
            "order": null,
            "overflow": null,
            "overflow_x": null,
            "overflow_y": null,
            "padding": null,
            "right": null,
            "top": null,
            "visibility": null,
            "width": null
          }
        },
        "7fda1ea811a94a439e715e054438a440": {
          "model_module": "@jupyter-widgets/controls",
          "model_module_version": "1.5.0",
          "model_name": "DescriptionStyleModel",
          "state": {
            "_model_module": "@jupyter-widgets/controls",
            "_model_module_version": "1.5.0",
            "_model_name": "DescriptionStyleModel",
            "_view_count": null,
            "_view_module": "@jupyter-widgets/base",
            "_view_module_version": "1.2.0",
            "_view_name": "StyleView",
            "description_width": ""
          }
        },
        "8588d67feed440fe9ed8905afd21ac19": {
          "model_module": "@jupyter-widgets/controls",
          "model_module_version": "1.5.0",
          "model_name": "FloatProgressModel",
          "state": {
            "_dom_classes": [],
            "_model_module": "@jupyter-widgets/controls",
            "_model_module_version": "1.5.0",
            "_model_name": "FloatProgressModel",
            "_view_count": null,
            "_view_module": "@jupyter-widgets/controls",
            "_view_module_version": "1.5.0",
            "_view_name": "ProgressView",
            "bar_style": "success",
            "description": "",
            "description_tooltip": null,
            "layout": "IPY_MODEL_ecb14a1c37b0459ea1a6712f7c8763a5",
            "max": 2,
            "min": 0,
            "orientation": "horizontal",
            "style": "IPY_MODEL_b81cc1217cf14fa2b13c47fe51ec341a",
            "value": 2
          }
        },
        "884249356a024d9298d7e42b1a1a67fc": {
          "model_module": "@jupyter-widgets/controls",
          "model_module_version": "1.5.0",
          "model_name": "ProgressStyleModel",
          "state": {
            "_model_module": "@jupyter-widgets/controls",
            "_model_module_version": "1.5.0",
            "_model_name": "ProgressStyleModel",
            "_view_count": null,
            "_view_module": "@jupyter-widgets/base",
            "_view_module_version": "1.2.0",
            "_view_name": "StyleView",
            "bar_color": null,
            "description_width": ""
          }
        },
        "9987dd8aeac84099a8b662fef78e18d9": {
          "model_module": "@jupyter-widgets/controls",
          "model_module_version": "1.5.0",
          "model_name": "HBoxModel",
          "state": {
            "_dom_classes": [],
            "_model_module": "@jupyter-widgets/controls",
            "_model_module_version": "1.5.0",
            "_model_name": "HBoxModel",
            "_view_count": null,
            "_view_module": "@jupyter-widgets/controls",
            "_view_module_version": "1.5.0",
            "_view_name": "HBoxView",
            "box_style": "",
            "children": [
              "IPY_MODEL_1237aa26103f45028d917b2db45c6615",
              "IPY_MODEL_8588d67feed440fe9ed8905afd21ac19",
              "IPY_MODEL_d21dd9a6e8ef4c54808ec935addd8049"
            ],
            "layout": "IPY_MODEL_6ebab35c5e7a448f822a0110d2aecf86"
          }
        },
        "a30805a0402e4513b3a7a1c9b58fd884": {
          "model_module": "@jupyter-widgets/controls",
          "model_module_version": "1.5.0",
          "model_name": "HBoxModel",
          "state": {
            "_dom_classes": [],
            "_model_module": "@jupyter-widgets/controls",
            "_model_module_version": "1.5.0",
            "_model_name": "HBoxModel",
            "_view_count": null,
            "_view_module": "@jupyter-widgets/controls",
            "_view_module_version": "1.5.0",
            "_view_name": "HBoxView",
            "box_style": "",
            "children": [
              "IPY_MODEL_72a7ae5bd10e403b826b5f3c9a3eedfd",
              "IPY_MODEL_b8ec4776fb60476b9344e0197c6f6fc6",
              "IPY_MODEL_cbc135552658412e82c321c64cbd3476"
            ],
            "layout": "IPY_MODEL_7e51106cecff4e32a40a19576c31fdc0"
          }
        },
        "a9385bd021ee4fb69edea5fa8d1fe343": {
          "model_module": "@jupyter-widgets/base",
          "model_module_version": "1.2.0",
          "model_name": "LayoutModel",
          "state": {
            "_model_module": "@jupyter-widgets/base",
            "_model_module_version": "1.2.0",
            "_model_name": "LayoutModel",
            "_view_count": null,
            "_view_module": "@jupyter-widgets/base",
            "_view_module_version": "1.2.0",
            "_view_name": "LayoutView",
            "align_content": null,
            "align_items": null,
            "align_self": null,
            "border": null,
            "bottom": null,
            "display": null,
            "flex": null,
            "flex_flow": null,
            "grid_area": null,
            "grid_auto_columns": null,
            "grid_auto_flow": null,
            "grid_auto_rows": null,
            "grid_column": null,
            "grid_gap": null,
            "grid_row": null,
            "grid_template_areas": null,
            "grid_template_columns": null,
            "grid_template_rows": null,
            "height": null,
            "justify_content": null,
            "justify_items": null,
            "left": null,
            "margin": null,
            "max_height": null,
            "max_width": null,
            "min_height": null,
            "min_width": null,
            "object_fit": null,
            "object_position": null,
            "order": null,
            "overflow": null,
            "overflow_x": null,
            "overflow_y": null,
            "padding": null,
            "right": null,
            "top": null,
            "visibility": null,
            "width": null
          }
        },
        "b07ee9df2d434103b50c7c4866b36142": {
          "model_module": "@jupyter-widgets/controls",
          "model_module_version": "1.5.0",
          "model_name": "ProgressStyleModel",
          "state": {
            "_model_module": "@jupyter-widgets/controls",
            "_model_module_version": "1.5.0",
            "_model_name": "ProgressStyleModel",
            "_view_count": null,
            "_view_module": "@jupyter-widgets/base",
            "_view_module_version": "1.2.0",
            "_view_name": "StyleView",
            "bar_color": null,
            "description_width": ""
          }
        },
        "b34cde4a1fa942618ba550ec6cd937ea": {
          "model_module": "@jupyter-widgets/controls",
          "model_module_version": "1.5.0",
          "model_name": "DescriptionStyleModel",
          "state": {
            "_model_module": "@jupyter-widgets/controls",
            "_model_module_version": "1.5.0",
            "_model_name": "DescriptionStyleModel",
            "_view_count": null,
            "_view_module": "@jupyter-widgets/base",
            "_view_module_version": "1.2.0",
            "_view_name": "StyleView",
            "description_width": ""
          }
        },
        "b3671732cb054d688d3666d130d73eb7": {
          "model_module": "@jupyter-widgets/base",
          "model_module_version": "1.2.0",
          "model_name": "LayoutModel",
          "state": {
            "_model_module": "@jupyter-widgets/base",
            "_model_module_version": "1.2.0",
            "_model_name": "LayoutModel",
            "_view_count": null,
            "_view_module": "@jupyter-widgets/base",
            "_view_module_version": "1.2.0",
            "_view_name": "LayoutView",
            "align_content": null,
            "align_items": null,
            "align_self": null,
            "border": null,
            "bottom": null,
            "display": null,
            "flex": null,
            "flex_flow": null,
            "grid_area": null,
            "grid_auto_columns": null,
            "grid_auto_flow": null,
            "grid_auto_rows": null,
            "grid_column": null,
            "grid_gap": null,
            "grid_row": null,
            "grid_template_areas": null,
            "grid_template_columns": null,
            "grid_template_rows": null,
            "height": null,
            "justify_content": null,
            "justify_items": null,
            "left": null,
            "margin": null,
            "max_height": null,
            "max_width": null,
            "min_height": null,
            "min_width": null,
            "object_fit": null,
            "object_position": null,
            "order": null,
            "overflow": null,
            "overflow_x": null,
            "overflow_y": null,
            "padding": null,
            "right": null,
            "top": null,
            "visibility": null,
            "width": null
          }
        },
        "b81cc1217cf14fa2b13c47fe51ec341a": {
          "model_module": "@jupyter-widgets/controls",
          "model_module_version": "1.5.0",
          "model_name": "ProgressStyleModel",
          "state": {
            "_model_module": "@jupyter-widgets/controls",
            "_model_module_version": "1.5.0",
            "_model_name": "ProgressStyleModel",
            "_view_count": null,
            "_view_module": "@jupyter-widgets/base",
            "_view_module_version": "1.2.0",
            "_view_name": "StyleView",
            "bar_color": null,
            "description_width": ""
          }
        },
        "b8ec4776fb60476b9344e0197c6f6fc6": {
          "model_module": "@jupyter-widgets/controls",
          "model_module_version": "1.5.0",
          "model_name": "FloatProgressModel",
          "state": {
            "_dom_classes": [],
            "_model_module": "@jupyter-widgets/controls",
            "_model_module_version": "1.5.0",
            "_model_name": "FloatProgressModel",
            "_view_count": null,
            "_view_module": "@jupyter-widgets/controls",
            "_view_module_version": "1.5.0",
            "_view_name": "ProgressView",
            "bar_style": "success",
            "description": "",
            "description_tooltip": null,
            "layout": "IPY_MODEL_bd8a9b7643094b37b72b25c8ab9f4054",
            "max": 9513,
            "min": 0,
            "orientation": "horizontal",
            "style": "IPY_MODEL_528d13241e374f1b9c3dfc58d44563b5",
            "value": 9513
          }
        },
        "bd8a9b7643094b37b72b25c8ab9f4054": {
          "model_module": "@jupyter-widgets/base",
          "model_module_version": "1.2.0",
          "model_name": "LayoutModel",
          "state": {
            "_model_module": "@jupyter-widgets/base",
            "_model_module_version": "1.2.0",
            "_model_name": "LayoutModel",
            "_view_count": null,
            "_view_module": "@jupyter-widgets/base",
            "_view_module_version": "1.2.0",
            "_view_name": "LayoutView",
            "align_content": null,
            "align_items": null,
            "align_self": null,
            "border": null,
            "bottom": null,
            "display": null,
            "flex": null,
            "flex_flow": null,
            "grid_area": null,
            "grid_auto_columns": null,
            "grid_auto_flow": null,
            "grid_auto_rows": null,
            "grid_column": null,
            "grid_gap": null,
            "grid_row": null,
            "grid_template_areas": null,
            "grid_template_columns": null,
            "grid_template_rows": null,
            "height": null,
            "justify_content": null,
            "justify_items": null,
            "left": null,
            "margin": null,
            "max_height": null,
            "max_width": null,
            "min_height": null,
            "min_width": null,
            "object_fit": null,
            "object_position": null,
            "order": null,
            "overflow": null,
            "overflow_x": null,
            "overflow_y": null,
            "padding": null,
            "right": null,
            "top": null,
            "visibility": null,
            "width": null
          }
        },
        "be85656e83dc4a209fd6b3a34c7e9f22": {
          "model_module": "@jupyter-widgets/base",
          "model_module_version": "1.2.0",
          "model_name": "LayoutModel",
          "state": {
            "_model_module": "@jupyter-widgets/base",
            "_model_module_version": "1.2.0",
            "_model_name": "LayoutModel",
            "_view_count": null,
            "_view_module": "@jupyter-widgets/base",
            "_view_module_version": "1.2.0",
            "_view_name": "LayoutView",
            "align_content": null,
            "align_items": null,
            "align_self": null,
            "border": null,
            "bottom": null,
            "display": null,
            "flex": null,
            "flex_flow": null,
            "grid_area": null,
            "grid_auto_columns": null,
            "grid_auto_flow": null,
            "grid_auto_rows": null,
            "grid_column": null,
            "grid_gap": null,
            "grid_row": null,
            "grid_template_areas": null,
            "grid_template_columns": null,
            "grid_template_rows": null,
            "height": null,
            "justify_content": null,
            "justify_items": null,
            "left": null,
            "margin": null,
            "max_height": null,
            "max_width": null,
            "min_height": null,
            "min_width": null,
            "object_fit": null,
            "object_position": null,
            "order": null,
            "overflow": null,
            "overflow_x": null,
            "overflow_y": null,
            "padding": null,
            "right": null,
            "top": null,
            "visibility": null,
            "width": null
          }
        },
        "c568ffff0264499da2add3f505bed0af": {
          "model_module": "@jupyter-widgets/base",
          "model_module_version": "1.2.0",
          "model_name": "LayoutModel",
          "state": {
            "_model_module": "@jupyter-widgets/base",
            "_model_module_version": "1.2.0",
            "_model_name": "LayoutModel",
            "_view_count": null,
            "_view_module": "@jupyter-widgets/base",
            "_view_module_version": "1.2.0",
            "_view_name": "LayoutView",
            "align_content": null,
            "align_items": null,
            "align_self": null,
            "border": null,
            "bottom": null,
            "display": null,
            "flex": null,
            "flex_flow": null,
            "grid_area": null,
            "grid_auto_columns": null,
            "grid_auto_flow": null,
            "grid_auto_rows": null,
            "grid_column": null,
            "grid_gap": null,
            "grid_row": null,
            "grid_template_areas": null,
            "grid_template_columns": null,
            "grid_template_rows": null,
            "height": null,
            "justify_content": null,
            "justify_items": null,
            "left": null,
            "margin": null,
            "max_height": null,
            "max_width": null,
            "min_height": null,
            "min_width": null,
            "object_fit": null,
            "object_position": null,
            "order": null,
            "overflow": null,
            "overflow_x": null,
            "overflow_y": null,
            "padding": null,
            "right": null,
            "top": null,
            "visibility": null,
            "width": null
          }
        },
        "cbc135552658412e82c321c64cbd3476": {
          "model_module": "@jupyter-widgets/controls",
          "model_module_version": "1.5.0",
          "model_name": "HTMLModel",
          "state": {
            "_dom_classes": [],
            "_model_module": "@jupyter-widgets/controls",
            "_model_module_version": "1.5.0",
            "_model_name": "HTMLModel",
            "_view_count": null,
            "_view_module": "@jupyter-widgets/controls",
            "_view_module_version": "1.5.0",
            "_view_name": "HTMLView",
            "description": "",
            "description_tooltip": null,
            "layout": "IPY_MODEL_5f685ba010bf4487b7ed5a8a717362ed",
            "placeholder": "​",
            "style": "IPY_MODEL_b34cde4a1fa942618ba550ec6cd937ea",
            "value": " 9513/9513 [00:20&lt;00:00, 512.26 examples/s]"
          }
        },
        "d21dd9a6e8ef4c54808ec935addd8049": {
          "model_module": "@jupyter-widgets/controls",
          "model_module_version": "1.5.0",
          "model_name": "HTMLModel",
          "state": {
            "_dom_classes": [],
            "_model_module": "@jupyter-widgets/controls",
            "_model_module_version": "1.5.0",
            "_model_name": "HTMLModel",
            "_view_count": null,
            "_view_module": "@jupyter-widgets/controls",
            "_view_module_version": "1.5.0",
            "_view_name": "HTMLView",
            "description": "",
            "description_tooltip": null,
            "layout": "IPY_MODEL_b3671732cb054d688d3666d130d73eb7",
            "placeholder": "​",
            "style": "IPY_MODEL_fd830aff069244c8b11c6afee789e3b1",
            "value": " 2/2 [00:04&lt;00:00,  1.78s/it]"
          }
        },
        "d633cbfbb4f24194bad274b65bac1017": {
          "model_module": "@jupyter-widgets/controls",
          "model_module_version": "1.5.0",
          "model_name": "DescriptionStyleModel",
          "state": {
            "_model_module": "@jupyter-widgets/controls",
            "_model_module_version": "1.5.0",
            "_model_name": "DescriptionStyleModel",
            "_view_count": null,
            "_view_module": "@jupyter-widgets/base",
            "_view_module_version": "1.2.0",
            "_view_name": "StyleView",
            "description_width": ""
          }
        },
        "d65c09f8f5cb4788a70306c3bb0d1270": {
          "model_module": "@jupyter-widgets/controls",
          "model_module_version": "1.5.0",
          "model_name": "VBoxModel",
          "state": {
            "_dom_classes": [],
            "_model_module": "@jupyter-widgets/controls",
            "_model_module_version": "1.5.0",
            "_model_name": "VBoxModel",
            "_view_count": null,
            "_view_module": "@jupyter-widgets/controls",
            "_view_module_version": "1.5.0",
            "_view_name": "VBoxView",
            "box_style": "",
            "children": [
              "IPY_MODEL_6a88a9e8663b4651bdcf9e6df5c093ae",
              "IPY_MODEL_1c0b9afdabdf45a5b6f69a2278858df4"
            ],
            "layout": "IPY_MODEL_5417c6eecbca4c50b02e3dedde67c0f3"
          }
        },
        "ec0465d0c5304e69874526f72e92ea79": {
          "model_module": "@jupyter-widgets/controls",
          "model_module_version": "1.5.0",
          "model_name": "DescriptionStyleModel",
          "state": {
            "_model_module": "@jupyter-widgets/controls",
            "_model_module_version": "1.5.0",
            "_model_name": "DescriptionStyleModel",
            "_view_count": null,
            "_view_module": "@jupyter-widgets/base",
            "_view_module_version": "1.2.0",
            "_view_name": "StyleView",
            "description_width": ""
          }
        },
        "ec28bbd833d54138bffaf325589f6b5d": {
          "model_module": "@jupyter-widgets/base",
          "model_module_version": "1.2.0",
          "model_name": "LayoutModel",
          "state": {
            "_model_module": "@jupyter-widgets/base",
            "_model_module_version": "1.2.0",
            "_model_name": "LayoutModel",
            "_view_count": null,
            "_view_module": "@jupyter-widgets/base",
            "_view_module_version": "1.2.0",
            "_view_name": "LayoutView",
            "align_content": null,
            "align_items": null,
            "align_self": null,
            "border": null,
            "bottom": null,
            "display": null,
            "flex": null,
            "flex_flow": null,
            "grid_area": null,
            "grid_auto_columns": null,
            "grid_auto_flow": null,
            "grid_auto_rows": null,
            "grid_column": null,
            "grid_gap": null,
            "grid_row": null,
            "grid_template_areas": null,
            "grid_template_columns": null,
            "grid_template_rows": null,
            "height": null,
            "justify_content": null,
            "justify_items": null,
            "left": null,
            "margin": null,
            "max_height": null,
            "max_width": null,
            "min_height": null,
            "min_width": null,
            "object_fit": null,
            "object_position": null,
            "order": null,
            "overflow": null,
            "overflow_x": null,
            "overflow_y": null,
            "padding": null,
            "right": null,
            "top": null,
            "visibility": null,
            "width": null
          }
        },
        "ecb14a1c37b0459ea1a6712f7c8763a5": {
          "model_module": "@jupyter-widgets/base",
          "model_module_version": "1.2.0",
          "model_name": "LayoutModel",
          "state": {
            "_model_module": "@jupyter-widgets/base",
            "_model_module_version": "1.2.0",
            "_model_name": "LayoutModel",
            "_view_count": null,
            "_view_module": "@jupyter-widgets/base",
            "_view_module_version": "1.2.0",
            "_view_name": "LayoutView",
            "align_content": null,
            "align_items": null,
            "align_self": null,
            "border": null,
            "bottom": null,
            "display": null,
            "flex": null,
            "flex_flow": null,
            "grid_area": null,
            "grid_auto_columns": null,
            "grid_auto_flow": null,
            "grid_auto_rows": null,
            "grid_column": null,
            "grid_gap": null,
            "grid_row": null,
            "grid_template_areas": null,
            "grid_template_columns": null,
            "grid_template_rows": null,
            "height": null,
            "justify_content": null,
            "justify_items": null,
            "left": null,
            "margin": null,
            "max_height": null,
            "max_width": null,
            "min_height": null,
            "min_width": null,
            "object_fit": null,
            "object_position": null,
            "order": null,
            "overflow": null,
            "overflow_x": null,
            "overflow_y": null,
            "padding": null,
            "right": null,
            "top": null,
            "visibility": null,
            "width": null
          }
        },
        "f7966579fa2c4713bce2a75c8cdf0fcf": {
          "model_module": "@jupyter-widgets/base",
          "model_module_version": "1.2.0",
          "model_name": "LayoutModel",
          "state": {
            "_model_module": "@jupyter-widgets/base",
            "_model_module_version": "1.2.0",
            "_model_name": "LayoutModel",
            "_view_count": null,
            "_view_module": "@jupyter-widgets/base",
            "_view_module_version": "1.2.0",
            "_view_name": "LayoutView",
            "align_content": null,
            "align_items": null,
            "align_self": null,
            "border": null,
            "bottom": null,
            "display": null,
            "flex": null,
            "flex_flow": null,
            "grid_area": null,
            "grid_auto_columns": null,
            "grid_auto_flow": null,
            "grid_auto_rows": null,
            "grid_column": null,
            "grid_gap": null,
            "grid_row": null,
            "grid_template_areas": null,
            "grid_template_columns": null,
            "grid_template_rows": null,
            "height": null,
            "justify_content": null,
            "justify_items": null,
            "left": null,
            "margin": null,
            "max_height": null,
            "max_width": null,
            "min_height": null,
            "min_width": null,
            "object_fit": null,
            "object_position": null,
            "order": null,
            "overflow": null,
            "overflow_x": null,
            "overflow_y": null,
            "padding": null,
            "right": null,
            "top": null,
            "visibility": null,
            "width": null
          }
        },
        "f7b24132ebca47849efedec2c9494df4": {
          "model_module": "@jupyter-widgets/controls",
          "model_module_version": "1.5.0",
          "model_name": "HTMLModel",
          "state": {
            "_dom_classes": [],
            "_model_module": "@jupyter-widgets/controls",
            "_model_module_version": "1.5.0",
            "_model_name": "HTMLModel",
            "_view_count": null,
            "_view_module": "@jupyter-widgets/controls",
            "_view_module_version": "1.5.0",
            "_view_name": "HTMLView",
            "description": "",
            "description_tooltip": null,
            "layout": "IPY_MODEL_c568ffff0264499da2add3f505bed0af",
            "placeholder": "​",
            "style": "IPY_MODEL_73a317a5d2ee41ad8f38a62007bc9023",
            "value": "Map: 100%"
          }
        },
        "fd830aff069244c8b11c6afee789e3b1": {
          "model_module": "@jupyter-widgets/controls",
          "model_module_version": "1.5.0",
          "model_name": "DescriptionStyleModel",
          "state": {
            "_model_module": "@jupyter-widgets/controls",
            "_model_module_version": "1.5.0",
            "_model_name": "DescriptionStyleModel",
            "_view_count": null,
            "_view_module": "@jupyter-widgets/base",
            "_view_module_version": "1.2.0",
            "_view_name": "StyleView",
            "description_width": ""
          }
        }
      }
    }
  },
  "nbformat": 4,
  "nbformat_minor": 0
}
